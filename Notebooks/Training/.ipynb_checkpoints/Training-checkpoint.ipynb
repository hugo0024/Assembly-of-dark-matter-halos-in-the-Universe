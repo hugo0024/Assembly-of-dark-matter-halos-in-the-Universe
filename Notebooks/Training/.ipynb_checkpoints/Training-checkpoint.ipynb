{
 "cells": [
  {
   "cell_type": "markdown",
   "id": "47a7a11d",
   "metadata": {},
   "source": [
    "# Training"
   ]
  },
  {
   "cell_type": "code",
   "execution_count": 1,
   "id": "0e019b3f",
   "metadata": {},
   "outputs": [],
   "source": [
    "import os\n",
    "import pandas as pd\n",
    "import numpy as np\n",
    "import matplotlib.pyplot as plt\n",
    "import seaborn as sns\n",
    "from sklearn.preprocessing import StandardScaler\n",
    "from sklearn.metrics import confusion_matrix, classification_report\n",
    "\n",
    "import tensorflow as tf\n",
    "from tensorflow.keras.models import Sequential\n",
    "from tensorflow.keras.layers import Dense, Dropout, Normalization\n",
    "from tensorflow.keras.callbacks import ModelCheckpoint, EarlyStopping"
   ]
  },
  {
   "cell_type": "code",
   "execution_count": 2,
   "id": "5f6e1898",
   "metadata": {},
   "outputs": [
    {
     "data": {
      "text/plain": [
       "True"
      ]
     },
     "execution_count": 2,
     "metadata": {},
     "output_type": "execute_result"
    }
   ],
   "source": [
    "filename = '../Preprocess/GadgetX-NewMDCLUSTER-1/paired-csv/training.csv'\n",
    "os.path.exists(filename)"
   ]
  },
  {
   "cell_type": "code",
   "execution_count": 14,
   "id": "b1dcb809",
   "metadata": {},
   "outputs": [],
   "source": [
    "training_df = pd.read_csv('../Preprocess/GadgetX-NewMDCLUSTER-1/paired-csv/training.csv')\n",
    "testing_df = pd.read_csv('../Preprocess/GadgetX-NewMDCLUSTER-2/paired-csv/training.csv')"
   ]
  },
  {
   "cell_type": "code",
   "execution_count": 15,
   "id": "62e5dee1",
   "metadata": {},
   "outputs": [
    {
     "data": {
      "text/html": [
       "<div>\n",
       "<style scoped>\n",
       "    .dataframe tbody tr th:only-of-type {\n",
       "        vertical-align: middle;\n",
       "    }\n",
       "\n",
       "    .dataframe tbody tr th {\n",
       "        vertical-align: top;\n",
       "    }\n",
       "\n",
       "    .dataframe thead th {\n",
       "        text-align: right;\n",
       "    }\n",
       "</style>\n",
       "<table border=\"1\" class=\"dataframe\">\n",
       "  <thead>\n",
       "    <tr style=\"text-align: right;\">\n",
       "      <th></th>\n",
       "      <th>pair</th>\n",
       "      <th>will_merge</th>\n",
       "      <th>relative_position</th>\n",
       "      <th>relative_velocity</th>\n",
       "      <th>mass1</th>\n",
       "      <th>mass2</th>\n",
       "      <th>numSubStruct1</th>\n",
       "      <th>numSubStruct2</th>\n",
       "      <th>sigV1</th>\n",
       "      <th>sigV2</th>\n",
       "      <th>lambda1</th>\n",
       "      <th>lambda2</th>\n",
       "      <th>cNFW1</th>\n",
       "      <th>cNFW2</th>\n",
       "      <th>Ekin1</th>\n",
       "      <th>Ekin2</th>\n",
       "      <th>Epot1</th>\n",
       "      <th>Epot2</th>\n",
       "      <th>ovdens1</th>\n",
       "      <th>ovdens2</th>\n",
       "    </tr>\n",
       "  </thead>\n",
       "  <tbody>\n",
       "    <tr>\n",
       "      <th>0</th>\n",
       "      <td>(25000000000005, 25000000000044)</td>\n",
       "      <td>1</td>\n",
       "      <td>142.999429</td>\n",
       "      <td>156.887982</td>\n",
       "      <td>1.157680e+11</td>\n",
       "      <td>3.716270e+10</td>\n",
       "      <td>0</td>\n",
       "      <td>0</td>\n",
       "      <td>222.66</td>\n",
       "      <td>127.63</td>\n",
       "      <td>0.042882</td>\n",
       "      <td>0.054696</td>\n",
       "      <td>6.32512</td>\n",
       "      <td>-1.00000</td>\n",
       "      <td>2.869820e+15</td>\n",
       "      <td>3.026660e+14</td>\n",
       "      <td>-5.049130e+15</td>\n",
       "      <td>-5.517260e+14</td>\n",
       "      <td>198.15</td>\n",
       "      <td>306.36</td>\n",
       "    </tr>\n",
       "    <tr>\n",
       "      <th>1</th>\n",
       "      <td>(25000000000049, 25000000000178)</td>\n",
       "      <td>1</td>\n",
       "      <td>122.366968</td>\n",
       "      <td>135.969394</td>\n",
       "      <td>3.875570e+10</td>\n",
       "      <td>1.933400e+10</td>\n",
       "      <td>0</td>\n",
       "      <td>0</td>\n",
       "      <td>143.60</td>\n",
       "      <td>95.76</td>\n",
       "      <td>0.017409</td>\n",
       "      <td>0.022634</td>\n",
       "      <td>7.62566</td>\n",
       "      <td>6.94666</td>\n",
       "      <td>3.995630e+14</td>\n",
       "      <td>8.864650e+13</td>\n",
       "      <td>-7.361200e+14</td>\n",
       "      <td>-2.568310e+14</td>\n",
       "      <td>161.55</td>\n",
       "      <td>316.27</td>\n",
       "    </tr>\n",
       "    <tr>\n",
       "      <th>2</th>\n",
       "      <td>(25000000000267, 25000000000110)</td>\n",
       "      <td>0</td>\n",
       "      <td>26521.986181</td>\n",
       "      <td>455.357322</td>\n",
       "      <td>1.608690e+10</td>\n",
       "      <td>2.615220e+10</td>\n",
       "      <td>0</td>\n",
       "      <td>0</td>\n",
       "      <td>82.67</td>\n",
       "      <td>157.09</td>\n",
       "      <td>0.052627</td>\n",
       "      <td>0.107450</td>\n",
       "      <td>10.03200</td>\n",
       "      <td>8.29273</td>\n",
       "      <td>5.497580e+13</td>\n",
       "      <td>3.227020e+14</td>\n",
       "      <td>-1.535520e+14</td>\n",
       "      <td>-4.187950e+14</td>\n",
       "      <td>82.56</td>\n",
       "      <td>176.73</td>\n",
       "    </tr>\n",
       "    <tr>\n",
       "      <th>3</th>\n",
       "      <td>(25000000000267, 25000000000275)</td>\n",
       "      <td>0</td>\n",
       "      <td>39706.274679</td>\n",
       "      <td>745.568516</td>\n",
       "      <td>1.608690e+10</td>\n",
       "      <td>1.608690e+10</td>\n",
       "      <td>0</td>\n",
       "      <td>0</td>\n",
       "      <td>82.67</td>\n",
       "      <td>90.99</td>\n",
       "      <td>0.052627</td>\n",
       "      <td>0.051506</td>\n",
       "      <td>10.03200</td>\n",
       "      <td>9.88054</td>\n",
       "      <td>5.497580e+13</td>\n",
       "      <td>6.658600e+13</td>\n",
       "      <td>-1.535520e+14</td>\n",
       "      <td>-1.471820e+14</td>\n",
       "      <td>82.56</td>\n",
       "      <td>111.89</td>\n",
       "    </tr>\n",
       "    <tr>\n",
       "      <th>4</th>\n",
       "      <td>(27000000000004, 27000000000154)</td>\n",
       "      <td>1</td>\n",
       "      <td>143.563899</td>\n",
       "      <td>174.686373</td>\n",
       "      <td>1.583850e+11</td>\n",
       "      <td>2.662480e+10</td>\n",
       "      <td>1</td>\n",
       "      <td>0</td>\n",
       "      <td>246.66</td>\n",
       "      <td>138.82</td>\n",
       "      <td>0.014668</td>\n",
       "      <td>0.090962</td>\n",
       "      <td>9.51642</td>\n",
       "      <td>4.49405</td>\n",
       "      <td>4.818010e+15</td>\n",
       "      <td>2.565430e+14</td>\n",
       "      <td>-8.754640e+15</td>\n",
       "      <td>-3.660130e+14</td>\n",
       "      <td>197.92</td>\n",
       "      <td>213.19</td>\n",
       "    </tr>\n",
       "  </tbody>\n",
       "</table>\n",
       "</div>"
      ],
      "text/plain": [
       "                               pair  will_merge  relative_position  \\\n",
       "0  (25000000000005, 25000000000044)           1         142.999429   \n",
       "1  (25000000000049, 25000000000178)           1         122.366968   \n",
       "2  (25000000000267, 25000000000110)           0       26521.986181   \n",
       "3  (25000000000267, 25000000000275)           0       39706.274679   \n",
       "4  (27000000000004, 27000000000154)           1         143.563899   \n",
       "\n",
       "   relative_velocity         mass1         mass2  numSubStruct1  \\\n",
       "0         156.887982  1.157680e+11  3.716270e+10              0   \n",
       "1         135.969394  3.875570e+10  1.933400e+10              0   \n",
       "2         455.357322  1.608690e+10  2.615220e+10              0   \n",
       "3         745.568516  1.608690e+10  1.608690e+10              0   \n",
       "4         174.686373  1.583850e+11  2.662480e+10              1   \n",
       "\n",
       "   numSubStruct2   sigV1   sigV2   lambda1   lambda2     cNFW1    cNFW2  \\\n",
       "0              0  222.66  127.63  0.042882  0.054696   6.32512 -1.00000   \n",
       "1              0  143.60   95.76  0.017409  0.022634   7.62566  6.94666   \n",
       "2              0   82.67  157.09  0.052627  0.107450  10.03200  8.29273   \n",
       "3              0   82.67   90.99  0.052627  0.051506  10.03200  9.88054   \n",
       "4              0  246.66  138.82  0.014668  0.090962   9.51642  4.49405   \n",
       "\n",
       "          Ekin1         Ekin2         Epot1         Epot2  ovdens1  ovdens2  \n",
       "0  2.869820e+15  3.026660e+14 -5.049130e+15 -5.517260e+14   198.15   306.36  \n",
       "1  3.995630e+14  8.864650e+13 -7.361200e+14 -2.568310e+14   161.55   316.27  \n",
       "2  5.497580e+13  3.227020e+14 -1.535520e+14 -4.187950e+14    82.56   176.73  \n",
       "3  5.497580e+13  6.658600e+13 -1.535520e+14 -1.471820e+14    82.56   111.89  \n",
       "4  4.818010e+15  2.565430e+14 -8.754640e+15 -3.660130e+14   197.92   213.19  "
      ]
     },
     "execution_count": 15,
     "metadata": {},
     "output_type": "execute_result"
    }
   ],
   "source": [
    "training_df.head()"
   ]
  },
  {
   "cell_type": "code",
   "execution_count": 16,
   "id": "4ad8601d",
   "metadata": {},
   "outputs": [
    {
     "name": "stdout",
     "output_type": "stream",
     "text": [
      "<class 'pandas.core.frame.DataFrame'>\n",
      "RangeIndex: 101516 entries, 0 to 101515\n",
      "Data columns (total 20 columns):\n",
      " #   Column             Non-Null Count   Dtype  \n",
      "---  ------             --------------   -----  \n",
      " 0   pair               101516 non-null  object \n",
      " 1   will_merge         101516 non-null  int64  \n",
      " 2   relative_position  101516 non-null  float64\n",
      " 3   relative_velocity  101516 non-null  float64\n",
      " 4   mass1              101516 non-null  float64\n",
      " 5   mass2              101516 non-null  float64\n",
      " 6   numSubStruct1      101516 non-null  int64  \n",
      " 7   numSubStruct2      101516 non-null  int64  \n",
      " 8   sigV1              101516 non-null  float64\n",
      " 9   sigV2              101516 non-null  float64\n",
      " 10  lambda1            101516 non-null  float64\n",
      " 11  lambda2            101516 non-null  float64\n",
      " 12  cNFW1              101516 non-null  float64\n",
      " 13  cNFW2              101516 non-null  float64\n",
      " 14  Ekin1              101516 non-null  float64\n",
      " 15  Ekin2              101516 non-null  float64\n",
      " 16  Epot1              101516 non-null  float64\n",
      " 17  Epot2              101516 non-null  float64\n",
      " 18  ovdens1            101516 non-null  float64\n",
      " 19  ovdens2            101516 non-null  float64\n",
      "dtypes: float64(16), int64(3), object(1)\n",
      "memory usage: 15.5+ MB\n"
     ]
    }
   ],
   "source": [
    "training_df.info()"
   ]
  },
  {
   "cell_type": "code",
   "execution_count": 28,
   "id": "62c422b1",
   "metadata": {},
   "outputs": [],
   "source": [
    "# Preparing data for the model\n",
    "\n",
    "X_train = training_df.drop(columns=['pair', 'will_merge']).values\n",
    "X_test = testing_df.drop(columns=['pair', 'will_merge']).values\n",
    "y_train = training_df['will_merge'].values\n",
    "y_test = testing_df['will_merge'].values"
   ]
  },
  {
   "cell_type": "code",
   "execution_count": 18,
   "id": "05e36e2e",
   "metadata": {},
   "outputs": [
    {
     "data": {
      "text/plain": [
       "<AxesSubplot:>"
      ]
     },
     "execution_count": 18,
     "metadata": {},
     "output_type": "execute_result"
    },
    {
     "data": {
      "image/png": "[encoded data removed]",
      "text/plain": [
       "<Figure size 1440x576 with 1 Axes>"
      ]
     },
     "metadata": {
      "needs_background": "light"
     },
     "output_type": "display_data"
    }
   ],
   "source": [
    "\n",
    "# Standardize data features to use zero mean normalisation\n",
    "\n",
    "scaler = StandardScaler()\n",
    "X_train = scaler.fit_transform(X_train)\n",
    "X_test = scaler.fit_transform(X_test)\n",
    "fig, ax=plt.subplots(1,figsize=(20,8))\n",
    "sns.boxplot(data=X_train, ax=ax)"
   ]
  },
  {
   "cell_type": "code",
   "execution_count": 25,
   "id": "bb2e72b5",
   "metadata": {},
   "outputs": [],
   "source": [
    "# Splitting data into training, validation and testing sets\n",
    "\n",
    "from sklearn.model_selection import train_test_split\n",
    "X_train, X_val, y_train, y_val = train_test_split(X_train, y_train, test_size=0.2, random_state=42)\n"
   ]
  },
  {
   "cell_type": "markdown",
   "id": "27d50529",
   "metadata": {},
   "source": [
    "## The model"
   ]
  },
  {
   "cell_type": "code",
   "execution_count": 20,
   "id": "ff13b49f",
   "metadata": {},
   "outputs": [],
   "source": [
    "num_features = len(df.columns) - 2  \n",
    "\n",
    "# Defining the model\n",
    "\n",
    "model = Sequential()\n",
    "model.add(Dense(18,input_shape=(18,), activation='relu'))\n",
    "#model.add(Dropout(0.5))\n",
    "model.add(Dense(18, activation='relu'))\n",
    "#model.add(Dropout(0.5))\n",
    "model.add(Dense(14, activation='relu'))\n",
    "\n",
    "model.add(Dense(10, activation='relu'))\n",
    "\n",
    "model.add(Dense(6, activation='relu'))\n",
    "\n",
    "model.add(Dense(2, activation='relu'))\n",
    "\n",
    "model.add(Dense(1, activation='sigmoid'))  # Output layer with sigmoid activation for binary classification"
   ]
  },
  {
   "cell_type": "code",
   "execution_count": 21,
   "id": "cbfcce4b",
   "metadata": {},
   "outputs": [],
   "source": [
    "# Compiling the model\n",
    "\n",
    "model.compile(loss='binary_crossentropy', optimizer='adam', metrics=['accuracy'])"
   ]
  },
  {
   "cell_type": "code",
   "execution_count": 22,
   "id": "140a0a38",
   "metadata": {},
   "outputs": [
    {
     "name": "stdout",
     "output_type": "stream",
     "text": [
      "Model: \"sequential_1\"\n",
      "_________________________________________________________________\n",
      " Layer (type)                Output Shape              Param #   \n",
      "=================================================================\n",
      " dense_7 (Dense)             (None, 18)                342       \n",
      "                                                                 \n",
      " dense_8 (Dense)             (None, 18)                342       \n",
      "                                                                 \n",
      " dense_9 (Dense)             (None, 14)                266       \n",
      "                                                                 \n",
      " dense_10 (Dense)            (None, 10)                150       \n",
      "                                                                 \n",
      " dense_11 (Dense)            (None, 6)                 66        \n",
      "                                                                 \n",
      " dense_12 (Dense)            (None, 2)                 14        \n",
      "                                                                 \n",
      " dense_13 (Dense)            (None, 1)                 3         \n",
      "                                                                 \n",
      "=================================================================\n",
      "Total params: 1,183\n",
      "Trainable params: 1,183\n",
      "Non-trainable params: 0\n",
      "_________________________________________________________________\n"
     ]
    }
   ],
   "source": [
    "# Summarising  the model\n",
    "model.build((1,18))\n",
    "model.summary()"
   ]
  },
  {
   "cell_type": "code",
   "execution_count": 23,
   "id": "c647752d",
   "metadata": {},
   "outputs": [],
   "source": [
    "# Preparing the callbacks to save the best model and prevent overfitting.\n",
    "\n",
    "checkpoint = ModelCheckpoint('best_model.h5', monitor='val_accuracy', mode='max', verbose=1, save_best_only=True)\n",
    "early_stopping = EarlyStopping(monitor='val_loss', mode='min', verbose=1, patience=10)"
   ]
  },
  {
   "cell_type": "code",
   "execution_count": 26,
   "id": "3c2d0583",
   "metadata": {},
   "outputs": [
    {
     "name": "stdout",
     "output_type": "stream",
     "text": [
      "Epoch 1/100\n",
      "2000/2031 [============================>.] - ETA: 0s - loss: 0.0680 - accuracy: 0.9803\n",
      "Epoch 1: val_accuracy improved from -inf to 0.99391, saving model to best_model.h5\n",
      "2031/2031 [==============================] - 3s 1ms/step - loss: 0.0677 - accuracy: 0.9804 - val_loss: 0.0290 - val_accuracy: 0.9939\n",
      "Epoch 2/100\n",
      "2017/2031 [============================>.] - ETA: 0s - loss: 0.0306 - accuracy: 0.9907\n",
      "Epoch 2: val_accuracy improved from 0.99391 to 0.99618, saving model to best_model.h5\n",
      "2031/2031 [==============================] - 3s 1ms/step - loss: 0.0312 - accuracy: 0.9907 - val_loss: 0.0168 - val_accuracy: 0.9962\n",
      "Epoch 3/100\n",
      "2006/2031 [============================>.] - ETA: 0s - loss: 0.0236 - accuracy: 0.9921\n",
      "Epoch 3: val_accuracy did not improve from 0.99618\n",
      "2031/2031 [==============================] - 3s 1ms/step - loss: 0.0237 - accuracy: 0.9921 - val_loss: 0.0224 - val_accuracy: 0.9930\n",
      "Epoch 4/100\n",
      "1986/2031 [============================>.] - ETA: 0s - loss: 0.0267 - accuracy: 0.9928\n",
      "Epoch 4: val_accuracy did not improve from 0.99618\n",
      "2031/2031 [==============================] - 3s 1ms/step - loss: 0.0264 - accuracy: 0.9928 - val_loss: 0.0235 - val_accuracy: 0.9925\n",
      "Epoch 5/100\n",
      "2012/2031 [============================>.] - ETA: 0s - loss: 0.0234 - accuracy: 0.9933\n",
      "Epoch 5: val_accuracy did not improve from 0.99618\n",
      "2031/2031 [==============================] - 3s 1ms/step - loss: 0.0232 - accuracy: 0.9934 - val_loss: 0.0183 - val_accuracy: 0.9935\n",
      "Epoch 6/100\n",
      "2023/2031 [============================>.] - ETA: 0s - loss: 0.0255 - accuracy: 0.9933\n",
      "Epoch 6: val_accuracy did not improve from 0.99618\n",
      "2031/2031 [==============================] - 3s 1ms/step - loss: 0.0254 - accuracy: 0.9933 - val_loss: 0.0360 - val_accuracy: 0.9939\n",
      "Epoch 7/100\n",
      "2028/2031 [============================>.] - ETA: 0s - loss: 0.0209 - accuracy: 0.9937\n",
      "Epoch 7: val_accuracy improved from 0.99618 to 0.99729, saving model to best_model.h5\n",
      "2031/2031 [==============================] - 2s 1ms/step - loss: 0.0209 - accuracy: 0.9937 - val_loss: 0.0125 - val_accuracy: 0.9973\n",
      "Epoch 8/100\n",
      "2009/2031 [============================>.] - ETA: 0s - loss: 0.0203 - accuracy: 0.9940\n",
      "Epoch 8: val_accuracy did not improve from 0.99729\n",
      "2031/2031 [==============================] - 2s 1ms/step - loss: 0.0202 - accuracy: 0.9940 - val_loss: 0.0162 - val_accuracy: 0.9951\n",
      "Epoch 9/100\n",
      "1999/2031 [============================>.] - ETA: 0s - loss: 0.0190 - accuracy: 0.9938\n",
      "Epoch 9: val_accuracy did not improve from 0.99729\n",
      "2031/2031 [==============================] - 3s 2ms/step - loss: 0.0194 - accuracy: 0.9937 - val_loss: 0.0208 - val_accuracy: 0.9934\n",
      "Epoch 10/100\n",
      "2013/2031 [============================>.] - ETA: 0s - loss: 0.0161 - accuracy: 0.9949\n",
      "Epoch 10: val_accuracy did not improve from 0.99729\n",
      "2031/2031 [==============================] - 2s 1ms/step - loss: 0.0161 - accuracy: 0.9949 - val_loss: 0.0341 - val_accuracy: 0.9879\n",
      "Epoch 11/100\n",
      "2026/2031 [============================>.] - ETA: 0s - loss: 0.0162 - accuracy: 0.9951\n",
      "Epoch 11: val_accuracy did not improve from 0.99729\n",
      "2031/2031 [==============================] - 3s 1ms/step - loss: 0.0162 - accuracy: 0.9951 - val_loss: 0.0120 - val_accuracy: 0.9961\n",
      "Epoch 12/100\n",
      "2018/2031 [============================>.] - ETA: 0s - loss: 0.0181 - accuracy: 0.9941\n",
      "Epoch 12: val_accuracy did not improve from 0.99729\n",
      "2031/2031 [==============================] - 3s 1ms/step - loss: 0.0180 - accuracy: 0.9942 - val_loss: 0.0092 - val_accuracy: 0.9972\n",
      "Epoch 13/100\n",
      "2020/2031 [============================>.] - ETA: 0s - loss: 0.0147 - accuracy: 0.9951\n",
      "Epoch 13: val_accuracy improved from 0.99729 to 0.99778, saving model to best_model.h5\n",
      "2031/2031 [==============================] - 3s 1ms/step - loss: 0.0149 - accuracy: 0.9951 - val_loss: 0.0088 - val_accuracy: 0.9978\n",
      "Epoch 14/100\n",
      "2029/2031 [============================>.] - ETA: 0s - loss: 0.0143 - accuracy: 0.9956\n",
      "Epoch 14: val_accuracy did not improve from 0.99778\n",
      "2031/2031 [==============================] - 2s 1ms/step - loss: 0.0143 - accuracy: 0.9956 - val_loss: 0.0092 - val_accuracy: 0.9974\n",
      "Epoch 15/100\n",
      "1999/2031 [============================>.] - ETA: 0s - loss: 0.0148 - accuracy: 0.9953\n",
      "Epoch 15: val_accuracy did not improve from 0.99778\n",
      "2031/2031 [==============================] - 3s 2ms/step - loss: 0.0156 - accuracy: 0.9951 - val_loss: 0.0645 - val_accuracy: 0.9780\n",
      "Epoch 16/100\n",
      "2020/2031 [============================>.] - ETA: 0s - loss: 0.0150 - accuracy: 0.9957\n",
      "Epoch 16: val_accuracy did not improve from 0.99778\n",
      "2031/2031 [==============================] - 2s 1ms/step - loss: 0.0151 - accuracy: 0.9956 - val_loss: 0.0107 - val_accuracy: 0.9970\n",
      "Epoch 17/100\n",
      "1987/2031 [============================>.] - ETA: 0s - loss: 0.0133 - accuracy: 0.9958\n",
      "Epoch 17: val_accuracy did not improve from 0.99778\n",
      "2031/2031 [==============================] - 3s 1ms/step - loss: 0.0133 - accuracy: 0.9959 - val_loss: 0.0087 - val_accuracy: 0.9976\n",
      "Epoch 18/100\n",
      "2012/2031 [============================>.] - ETA: 0s - loss: 0.0120 - accuracy: 0.9961\n",
      "Epoch 18: val_accuracy improved from 0.99778 to 0.99846, saving model to best_model.h5\n",
      "2031/2031 [==============================] - 3s 1ms/step - loss: 0.0120 - accuracy: 0.9961 - val_loss: 0.0079 - val_accuracy: 0.9985\n",
      "Epoch 19/100\n",
      "2016/2031 [============================>.] - ETA: 0s - loss: 0.0135 - accuracy: 0.9961\n",
      "Epoch 19: val_accuracy did not improve from 0.99846\n",
      "2031/2031 [==============================] - 3s 1ms/step - loss: 0.0137 - accuracy: 0.9961 - val_loss: 0.0160 - val_accuracy: 0.9946\n",
      "Epoch 20/100\n",
      "2007/2031 [============================>.] - ETA: 0s - loss: 0.0126 - accuracy: 0.9960\n",
      "Epoch 20: val_accuracy did not improve from 0.99846\n",
      "2031/2031 [==============================] - 2s 1ms/step - loss: 0.0126 - accuracy: 0.9960 - val_loss: 0.0139 - val_accuracy: 0.9951\n",
      "Epoch 21/100\n",
      "1999/2031 [============================>.] - ETA: 0s - loss: 0.0121 - accuracy: 0.9962\n",
      "Epoch 21: val_accuracy did not improve from 0.99846\n",
      "2031/2031 [==============================] - 3s 1ms/step - loss: 0.0125 - accuracy: 0.9961 - val_loss: 0.0164 - val_accuracy: 0.9942\n",
      "Epoch 22/100\n",
      "1998/2031 [============================>.] - ETA: 0s - loss: 0.0110 - accuracy: 0.9965\n",
      "Epoch 22: val_accuracy did not improve from 0.99846\n",
      "2031/2031 [==============================] - 3s 1ms/step - loss: 0.0111 - accuracy: 0.9964 - val_loss: 0.0096 - val_accuracy: 0.9973\n",
      "Epoch 23/100\n",
      "1988/2031 [============================>.] - ETA: 0s - loss: 0.0119 - accuracy: 0.9963\n",
      "Epoch 23: val_accuracy did not improve from 0.99846\n",
      "2031/2031 [==============================] - 3s 1ms/step - loss: 0.0119 - accuracy: 0.9963 - val_loss: 0.0081 - val_accuracy: 0.9978\n",
      "Epoch 24/100\n",
      "2027/2031 [============================>.] - ETA: 0s - loss: 0.0116 - accuracy: 0.9964\n",
      "Epoch 24: val_accuracy did not improve from 0.99846\n",
      "2031/2031 [==============================] - 3s 1ms/step - loss: 0.0115 - accuracy: 0.9964 - val_loss: 0.0118 - val_accuracy: 0.9951\n",
      "Epoch 25/100\n",
      "2022/2031 [============================>.] - ETA: 0s - loss: 0.0109 - accuracy: 0.9965\n",
      "Epoch 25: val_accuracy did not improve from 0.99846\n",
      "2031/2031 [==============================] - 2s 1ms/step - loss: 0.0109 - accuracy: 0.9965 - val_loss: 0.0080 - val_accuracy: 0.9980\n",
      "Epoch 26/100\n",
      "2030/2031 [============================>.] - ETA: 0s - loss: 0.0115 - accuracy: 0.9966\n",
      "Epoch 26: val_accuracy did not improve from 0.99846\n",
      "2031/2031 [==============================] - 3s 2ms/step - loss: 0.0115 - accuracy: 0.9966 - val_loss: 0.0094 - val_accuracy: 0.9975\n",
      "Epoch 27/100\n",
      "1979/2031 [============================>.] - ETA: 0s - loss: 0.0110 - accuracy: 0.9964\n",
      "Epoch 27: val_accuracy did not improve from 0.99846\n",
      "2031/2031 [==============================] - 3s 1ms/step - loss: 0.0111 - accuracy: 0.9964 - val_loss: 0.0131 - val_accuracy: 0.9956\n",
      "Epoch 28/100\n",
      "2013/2031 [============================>.] - ETA: 0s - loss: 0.0108 - accuracy: 0.9967\n",
      "Epoch 28: val_accuracy did not improve from 0.99846\n",
      "2031/2031 [==============================] - 3s 1ms/step - loss: 0.0109 - accuracy: 0.9966 - val_loss: 0.0133 - val_accuracy: 0.9955\n",
      "Epoch 28: early stopping\n"
     ]
    }
   ],
   "source": [
    "# Fitting the model to the data\n",
    "\n",
    "history = model.fit(\n",
    "    X_train, \n",
    "    y_train, \n",
    "    epochs=100, \n",
    "    batch_size=32, \n",
    "    validation_data=(X_val, y_val),\n",
    "    callbacks=[checkpoint, early_stopping]\n",
    ")"
   ]
  },
  {
   "cell_type": "code",
   "execution_count": 29,
   "id": "9b0a35d9",
   "metadata": {},
   "outputs": [
    {
     "name": "stdout",
     "output_type": "stream",
     "text": [
      "2197/2197 [==============================] - 2s 1ms/step - loss: 663420968614552928256.0000 - accuracy: 0.5912\n",
      "Accuracy: 59.12\n"
     ]
    }
   ],
   "source": [
    "# Evaluating the model\n",
    "\n",
    "_, accuracy = model.evaluate(X_test, y_test)\n",
    "print('Accuracy: %.2f' % (accuracy*100))"
   ]
  },
  {
   "cell_type": "code",
   "execution_count": 30,
   "id": "129929d1",
   "metadata": {},
   "outputs": [],
   "source": [
    "def plots(history):\n",
    "    # summarize history for accuracy\n",
    "    plt.plot(history.history['accuracy'])\n",
    "    plt.plot(history.history['val_accuracy'])\n",
    "    plt.title('model accuracy')\n",
    "    plt.ylabel('accuracy')\n",
    "    plt.xlabel('epoch')\n",
    "    plt.legend(['train', 'test'], loc='upper left')\n",
    "    plt.show()\n",
    "    # summarize history for loss\n",
    "    plt.plot(history.history['loss'])\n",
    "    plt.plot(history.history['val_loss'])\n",
    "    plt.title('model loss')\n",
    "    plt.ylabel('loss')\n",
    "    plt.xlabel('epoch')\n",
    "    plt.legend(['train', 'test'], loc='upper left')\n",
    "    plt.show()"
   ]
  },
  {
   "cell_type": "code",
   "execution_count": 31,
   "id": "79cc82ce",
   "metadata": {},
   "outputs": [
    {
     "data": {
      "image/png": "[encoded data removed]",
      "text/plain": [
       "<Figure size 432x288 with 1 Axes>"
      ]
     },
     "metadata": {
      "needs_background": "light"
     },
     "output_type": "display_data"
    },
    {
     "data": {
      "image/png": "[encoded data removed]",
      "text/plain": [
       "<Figure size 432x288 with 1 Axes>"
      ]
     },
     "metadata": {
      "needs_background": "light"
     },
     "output_type": "display_data"
    }
   ],
   "source": [
    "plots(history)"
   ]
  },
  {
   "cell_type": "code",
   "execution_count": 32,
   "id": "f5dc728f",
   "metadata": {},
   "outputs": [
    {
     "name": "stdout",
     "output_type": "stream",
     "text": [
      "2197/2197 [==============================] - 1s 589us/step\n"
     ]
    }
   ],
   "source": [
    "predict = model.predict(X_test)"
   ]
  },
  {
   "cell_type": "code",
   "execution_count": 33,
   "id": "1c48c625",
   "metadata": {},
   "outputs": [
    {
     "data": {
      "text/plain": [
       "array([[1.],\n",
       "       [1.],\n",
       "       [1.],\n",
       "       ...,\n",
       "       [1.],\n",
       "       [1.],\n",
       "       [1.]], dtype=float32)"
      ]
     },
     "execution_count": 33,
     "metadata": {},
     "output_type": "execute_result"
    }
   ],
   "source": [
    "predict = predict.round(0)\n",
    "predict"
   ]
  },
  {
   "cell_type": "code",
   "execution_count": 34,
   "id": "d1cba9de",
   "metadata": {},
   "outputs": [],
   "source": [
    "cm = confusion_matrix(y_test, predict)"
   ]
  },
  {
   "cell_type": "code",
   "execution_count": 35,
   "id": "186b92aa",
   "metadata": {},
   "outputs": [
    {
     "name": "stdout",
     "output_type": "stream",
     "text": [
      "              precision    recall  f1-score   support\n",
      "\n",
      "           0       0.92      0.20      0.33     35145\n",
      "           1       0.55      0.98      0.71     35145\n",
      "\n",
      "    accuracy                           0.59     70290\n",
      "   macro avg       0.73      0.59      0.52     70290\n",
      "weighted avg       0.73      0.59      0.52     70290\n",
      "\n"
     ]
    },
    {
     "data": {
      "image/png": "[encoded data removed]",
      "text/plain": [
       "<Figure size 216x216 with 1 Axes>"
      ]
     },
     "metadata": {
      "needs_background": "light"
     },
     "output_type": "display_data"
    }
   ],
   "source": [
    "# Plot confusion matrix\n",
    "fig, ax = plt.subplots(figsize=(3,3))\n",
    "ax.matshow(cm, cmap=plt.cm.Blues, alpha=0.3)\n",
    "for i in range(cm.shape[0]):\n",
    "    for j in range(cm.shape[1]):\n",
    "        ax.text(x=j, y=i, s=cm[i,j], va='center', ha='center')\n",
    "classes=[\"1\", \"0\"]\n",
    "tick_marks = np.arange(len(classes))\n",
    "plt.xticks(tick_marks, classes, rotation=45)\n",
    "plt.yticks(tick_marks, classes)\n",
    "plt.xlabel('Predicted Values',)\n",
    "plt.ylabel('actual Values',);\n",
    "print(classification_report(y_test, predict))"
   ]
  },
  {
   "cell_type": "code",
   "execution_count": 36,
   "id": "46c98ff8",
   "metadata": {},
   "outputs": [
    {
     "name": "stderr",
     "output_type": "stream",
     "text": [
      "<ipython-input-36-486c0cdf8555>:16: MatplotlibDeprecationWarning: Adding an axes using the same arguments as a previous axes currently reuses the earlier instance.  In a future version, a new instance will always be created and returned.  Meanwhile, this warning can be suppressed, and the future behavior ensured, by passing a unique label to each axes instance.\n",
      "  plt.axes().set_aspect(1);\n"
     ]
    },
    {
     "data": {
      "image/png": "[encoded data removed]",
      "text/plain": [
       "<Figure size 720x576 with 1 Axes>"
      ]
     },
     "metadata": {
      "needs_background": "light"
     },
     "output_type": "display_data"
    }
   ],
   "source": [
    "# Plot the rciever opertaing characteristic curve (ROC)\n",
    "from sklearn.metrics import roc_curve, auc\n",
    "\n",
    "plt.figure(figsize=(10,8))\n",
    "#probas_ = model.predict(X_valid['speed'])\n",
    "fpr, tpr, thresholds = roc_curve(y_test, predict)\n",
    "roc_auc = auc(fpr,tpr)\n",
    "plt.plot(fpr,tpr, lw=1, label='ROC fold (area = %0.2f)' %(roc_auc))\n",
    "plt.plot([0, 1], [0, 1], '--', color=(0.6, 0.6, 0.6), label='Random')\n",
    "plt.xlim([-0.05,1.05])\n",
    "plt.ylim([-0.05,1.05])\n",
    "plt.xlabel('False positive rate | 1 - specificity (1 -  recall)')\n",
    "plt.ylabel('True positive rate | Sensitivity ( recall)')\n",
    "plt.title('Reciever operating characteristics')\n",
    "plt.legend(loc=\"lower right\")\n",
    "plt.axes().set_aspect(1);\n"
   ]
  },
  {
   "cell_type": "code",
   "execution_count": null,
   "id": "5730ad07",
   "metadata": {},
   "outputs": [],
   "source": []
  }
 ],
 "metadata": {
  "kernelspec": {
   "display_name": "Python 3",
   "language": "python",
   "name": "python3"
  },
  "language_info": {
   "codemirror_mode": {
    "name": "ipython",
    "version": 3
   },
   "file_extension": ".py",
   "mimetype": "text/x-python",
   "name": "python",
   "nbconvert_exporter": "python",
   "pygments_lexer": "ipython3",
   "version": "3.8.8"
  }
 },
 "nbformat": 4,
 "nbformat_minor": 5
}
