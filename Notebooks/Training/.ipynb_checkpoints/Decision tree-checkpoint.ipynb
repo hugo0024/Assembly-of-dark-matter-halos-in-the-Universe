{
 "cells": [
  {
   "cell_type": "markdown",
   "id": "133ee181",
   "metadata": {},
   "source": [
    "# Decision tree"
   ]
  },
  {
   "cell_type": "code",
   "execution_count": 1,
   "id": "67949719",
   "metadata": {},
   "outputs": [],
   "source": [
    "import os\n",
    "import pandas as pd\n",
    "import numpy as np\n",
    "import matplotlib.pyplot as plt\n",
    "import seaborn as sns\n",
    "from sklearn.preprocessing import StandardScaler\n",
    "from sklearn.metrics import confusion_matrix, classification_report\n",
    "from sklearn.tree import DecisionTreeClassifier, export_graphviz"
   ]
  },
  {
   "cell_type": "code",
   "execution_count": 2,
   "id": "1f7277b8",
   "metadata": {},
   "outputs": [],
   "source": [
    "training_df = pd.read_csv('../Preprocess/GadgetX-NewMDCLUSTER-1/paired-csv/training.csv')\n",
    "testing_df = pd.read_csv('../Preprocess/GadgetX-NewMDCLUSTER-2/paired-csv/training.csv')"
   ]
  },
  {
   "cell_type": "code",
   "execution_count": 3,
   "id": "613d85be",
   "metadata": {},
   "outputs": [],
   "source": [
    "# Preparing data for the model\n",
    "\n",
    "X_train = training_df.drop(columns=['pair', 'will_merge']).values\n",
    "X_test = testing_df.drop(columns=['pair', 'will_merge']).values\n",
    "y_train = training_df['will_merge'].values\n",
    "y_test = testing_df['will_merge'].values"
   ]
  },
  {
   "cell_type": "code",
   "execution_count": 4,
   "id": "c93bf42a",
   "metadata": {},
   "outputs": [
    {
     "data": {
      "text/html": [
       "<style>#sk-container-id-1 {color: black;background-color: white;}#sk-container-id-1 pre{padding: 0;}#sk-container-id-1 div.sk-toggleable {background-color: white;}#sk-container-id-1 label.sk-toggleable__label {cursor: pointer;display: block;width: 100%;margin-bottom: 0;padding: 0.3em;box-sizing: border-box;text-align: center;}#sk-container-id-1 label.sk-toggleable__label-arrow:before {content: \"▸\";float: left;margin-right: 0.25em;color: #696969;}#sk-container-id-1 label.sk-toggleable__label-arrow:hover:before {color: black;}#sk-container-id-1 div.sk-estimator:hover label.sk-toggleable__label-arrow:before {color: black;}#sk-container-id-1 div.sk-toggleable__content {max-height: 0;max-width: 0;overflow: hidden;text-align: left;background-color: #f0f8ff;}#sk-container-id-1 div.sk-toggleable__content pre {margin: 0.2em;color: black;border-radius: 0.25em;background-color: #f0f8ff;}#sk-container-id-1 input.sk-toggleable__control:checked~div.sk-toggleable__content {max-height: 200px;max-width: 100%;overflow: auto;}#sk-container-id-1 input.sk-toggleable__control:checked~label.sk-toggleable__label-arrow:before {content: \"▾\";}#sk-container-id-1 div.sk-estimator input.sk-toggleable__control:checked~label.sk-toggleable__label {background-color: #d4ebff;}#sk-container-id-1 div.sk-label input.sk-toggleable__control:checked~label.sk-toggleable__label {background-color: #d4ebff;}#sk-container-id-1 input.sk-hidden--visually {border: 0;clip: rect(1px 1px 1px 1px);clip: rect(1px, 1px, 1px, 1px);height: 1px;margin: -1px;overflow: hidden;padding: 0;position: absolute;width: 1px;}#sk-container-id-1 div.sk-estimator {font-family: monospace;background-color: #f0f8ff;border: 1px dotted black;border-radius: 0.25em;box-sizing: border-box;margin-bottom: 0.5em;}#sk-container-id-1 div.sk-estimator:hover {background-color: #d4ebff;}#sk-container-id-1 div.sk-parallel-item::after {content: \"\";width: 100%;border-bottom: 1px solid gray;flex-grow: 1;}#sk-container-id-1 div.sk-label:hover label.sk-toggleable__label {background-color: #d4ebff;}#sk-container-id-1 div.sk-serial::before {content: \"\";position: absolute;border-left: 1px solid gray;box-sizing: border-box;top: 0;bottom: 0;left: 50%;z-index: 0;}#sk-container-id-1 div.sk-serial {display: flex;flex-direction: column;align-items: center;background-color: white;padding-right: 0.2em;padding-left: 0.2em;position: relative;}#sk-container-id-1 div.sk-item {position: relative;z-index: 1;}#sk-container-id-1 div.sk-parallel {display: flex;align-items: stretch;justify-content: center;background-color: white;position: relative;}#sk-container-id-1 div.sk-item::before, #sk-container-id-1 div.sk-parallel-item::before {content: \"\";position: absolute;border-left: 1px solid gray;box-sizing: border-box;top: 0;bottom: 0;left: 50%;z-index: -1;}#sk-container-id-1 div.sk-parallel-item {display: flex;flex-direction: column;z-index: 1;position: relative;background-color: white;}#sk-container-id-1 div.sk-parallel-item:first-child::after {align-self: flex-end;width: 50%;}#sk-container-id-1 div.sk-parallel-item:last-child::after {align-self: flex-start;width: 50%;}#sk-container-id-1 div.sk-parallel-item:only-child::after {width: 0;}#sk-container-id-1 div.sk-dashed-wrapped {border: 1px dashed gray;margin: 0 0.4em 0.5em 0.4em;box-sizing: border-box;padding-bottom: 0.4em;background-color: white;}#sk-container-id-1 div.sk-label label {font-family: monospace;font-weight: bold;display: inline-block;line-height: 1.2em;}#sk-container-id-1 div.sk-label-container {text-align: center;}#sk-container-id-1 div.sk-container {/* jupyter's `normalize.less` sets `[hidden] { display: none; }` but bootstrap.min.css set `[hidden] { display: none !important; }` so we also need the `!important` here to be able to override the default hidden behavior on the sphinx rendered scikit-learn.org. See: https://github.com/scikit-learn/scikit-learn/issues/21755 */display: inline-block !important;position: relative;}#sk-container-id-1 div.sk-text-repr-fallback {display: none;}</style><div id=\"sk-container-id-1\" class=\"sk-top-container\"><div class=\"sk-text-repr-fallback\"><pre>DecisionTreeClassifier(random_state=36)</pre><b>In a Jupyter environment, please rerun this cell to show the HTML representation or trust the notebook. <br />On GitHub, the HTML representation is unable to render, please try loading this page with nbviewer.org.</b></div><div class=\"sk-container\" hidden><div class=\"sk-item\"><div class=\"sk-estimator sk-toggleable\"><input class=\"sk-toggleable__control sk-hidden--visually\" id=\"sk-estimator-id-1\" type=\"checkbox\" checked><label for=\"sk-estimator-id-1\" class=\"sk-toggleable__label sk-toggleable__label-arrow\">DecisionTreeClassifier</label><div class=\"sk-toggleable__content\"><pre>DecisionTreeClassifier(random_state=36)</pre></div></div></div></div></div>"
      ],
      "text/plain": [
       "DecisionTreeClassifier(random_state=36)"
      ]
     },
     "execution_count": 4,
     "metadata": {},
     "output_type": "execute_result"
    }
   ],
   "source": [
    "tree_clf = DecisionTreeClassifier(random_state = 36)\n",
    "tree_clf.fit(X_train, y_train)"
   ]
  },
  {
   "cell_type": "code",
   "execution_count": 5,
   "id": "dd401d32",
   "metadata": {},
   "outputs": [
    {
     "data": {
      "text/plain": [
       "0.9992175273865415"
      ]
     },
     "execution_count": 5,
     "metadata": {},
     "output_type": "execute_result"
    }
   ],
   "source": [
    "tree_clf.score(X_test, y_test)"
   ]
  },
  {
   "cell_type": "code",
   "execution_count": 6,
   "id": "016245a6",
   "metadata": {},
   "outputs": [],
   "source": [
    "predict = tree_clf.predict(X_test)"
   ]
  },
  {
   "cell_type": "code",
   "execution_count": 7,
   "id": "2d9f88a4",
   "metadata": {},
   "outputs": [],
   "source": [
    "cm = confusion_matrix(y_test, predict)"
   ]
  },
  {
   "cell_type": "code",
   "execution_count": 8,
   "id": "38fe23be",
   "metadata": {},
   "outputs": [
    {
     "name": "stdout",
     "output_type": "stream",
     "text": [
      "              precision    recall  f1-score   support\n",
      "\n",
      "           0       1.00      1.00      1.00     35145\n",
      "           1       1.00      1.00      1.00     35145\n",
      "\n",
      "    accuracy                           1.00     70290\n",
      "   macro avg       1.00      1.00      1.00     70290\n",
      "weighted avg       1.00      1.00      1.00     70290\n",
      "\n"
     ]
    },
    {
     "data": {
      "image/png": "[encoded data removed]",
      "text/plain": [
       "<Figure size 300x300 with 1 Axes>"
      ]
     },
     "metadata": {},
     "output_type": "display_data"
    }
   ],
   "source": [
    "# Plot confusion matrix\n",
    "fig, ax = plt.subplots(figsize=(3,3))\n",
    "ax.matshow(cm, cmap=plt.cm.Blues, alpha=0.3)\n",
    "for i in range(cm.shape[0]):\n",
    "    for j in range(cm.shape[1]):\n",
    "        ax.text(x=j, y=i, s=cm[i,j], va='center', ha='center')\n",
    "classes=[\"1\", \"0\"]\n",
    "tick_marks = np.arange(len(classes))\n",
    "plt.xticks(tick_marks, classes, rotation=45)\n",
    "plt.yticks(tick_marks, classes)\n",
    "plt.xlabel('Predicted Values',)\n",
    "plt.ylabel('actual Values',);\n",
    "print(classification_report(y_test, predict))"
   ]
  },
  {
   "cell_type": "code",
   "execution_count": 9,
   "id": "280ac985",
   "metadata": {},
   "outputs": [
    {
     "data": {
      "image/png": "[encoded data removed]",
      "text/plain": [
       "<Figure size 1000x800 with 2 Axes>"
      ]
     },
     "metadata": {},
     "output_type": "display_data"
    }
   ],
   "source": [
    "# Plot the rciever opertaing characteristic curve (ROC)\n",
    "from sklearn.metrics import roc_curve, auc\n",
    "\n",
    "plt.figure(figsize=(10,8))\n",
    "#probas_ = model.predict(X_valid['speed'])\n",
    "fpr, tpr, thresholds = roc_curve(y_test, predict)\n",
    "roc_auc = auc(fpr,tpr)\n",
    "plt.plot(fpr,tpr, lw=1, label='ROC fold (area = %0.2f)' %(roc_auc))\n",
    "plt.plot([0, 1], [0, 1], '--', color=(0.6, 0.6, 0.6), label='Random')\n",
    "plt.xlim([-0.05,1.05])\n",
    "plt.ylim([-0.05,1.05])\n",
    "plt.xlabel('False positive rate | 1 - specificity (1 -  recall)')\n",
    "plt.ylabel('True positive rate | Sensitivity ( recall)')\n",
    "plt.title('Reciever operating characteristics')\n",
    "plt.legend(loc=\"lower right\")\n",
    "plt.axes().set_aspect(1);\n"
   ]
  },
  {
   "cell_type": "markdown",
   "id": "5af25d46",
   "metadata": {},
   "source": [
    "# Use the model on a snapshot file"
   ]
  },
  {
   "cell_type": "code",
   "execution_count": 10,
   "id": "4559663b",
   "metadata": {},
   "outputs": [],
   "source": [
    "snapshot_df = pd.read_csv('../Preprocess/GadgetX-NewMDCLUSTER-2/combined-csv/GadgetX-NewMDCLUSTER_0008.snap_030.z7.752_combined.csv')"
   ]
  },
  {
   "cell_type": "code",
   "execution_count": 11,
   "id": "b8b835fb",
   "metadata": {},
   "outputs": [
    {
     "data": {
      "text/html": [
       "<div>\n",
       "<style scoped>\n",
       "    .dataframe tbody tr th:only-of-type {\n",
       "        vertical-align: middle;\n",
       "    }\n",
       "\n",
       "    .dataframe tbody tr th {\n",
       "        vertical-align: top;\n",
       "    }\n",
       "\n",
       "    .dataframe thead th {\n",
       "        text-align: right;\n",
       "    }\n",
       "</style>\n",
       "<table border=\"1\" class=\"dataframe\">\n",
       "  <thead>\n",
       "    <tr style=\"text-align: right;\">\n",
       "      <th></th>\n",
       "      <th>ID</th>\n",
       "      <th>hostHalo</th>\n",
       "      <th>numSubStruct</th>\n",
       "      <th>Mvir</th>\n",
       "      <th>npart</th>\n",
       "      <th>Xc</th>\n",
       "      <th>Yc</th>\n",
       "      <th>Zc</th>\n",
       "      <th>VXc</th>\n",
       "      <th>VYc</th>\n",
       "      <th>...</th>\n",
       "      <th>fMhires</th>\n",
       "      <th>Ekin</th>\n",
       "      <th>Epot</th>\n",
       "      <th>SurfP</th>\n",
       "      <th>Phi0</th>\n",
       "      <th>cNFW</th>\n",
       "      <th>numProgenitors</th>\n",
       "      <th>ProgenitorsID</th>\n",
       "      <th>redshift</th>\n",
       "      <th>snapshot</th>\n",
       "    </tr>\n",
       "  </thead>\n",
       "  <tbody>\n",
       "    <tr>\n",
       "      <th>0</th>\n",
       "      <td>30000000000001</td>\n",
       "      <td>0</td>\n",
       "      <td>0</td>\n",
       "      <td>3.712890e+11</td>\n",
       "      <td>505</td>\n",
       "      <td>498292.985984</td>\n",
       "      <td>495865.218980</td>\n",
       "      <td>483857.668298</td>\n",
       "      <td>-87.25</td>\n",
       "      <td>99.64</td>\n",
       "      <td>...</td>\n",
       "      <td>1.0</td>\n",
       "      <td>2.326100e+16</td>\n",
       "      <td>-3.859090e+16</td>\n",
       "      <td>-5.587780e+15</td>\n",
       "      <td>454302.0</td>\n",
       "      <td>10.71550</td>\n",
       "      <td>2</td>\n",
       "      <td>[29000000000001, 29000000000230]</td>\n",
       "      <td>7.752</td>\n",
       "      <td>30</td>\n",
       "    </tr>\n",
       "    <tr>\n",
       "      <th>1</th>\n",
       "      <td>30000000000002</td>\n",
       "      <td>0</td>\n",
       "      <td>0</td>\n",
       "      <td>2.450840e+11</td>\n",
       "      <td>324</td>\n",
       "      <td>507884.732315</td>\n",
       "      <td>512334.181581</td>\n",
       "      <td>493302.051510</td>\n",
       "      <td>-68.14</td>\n",
       "      <td>-203.51</td>\n",
       "      <td>...</td>\n",
       "      <td>1.0</td>\n",
       "      <td>1.117340e+16</td>\n",
       "      <td>-1.911520e+16</td>\n",
       "      <td>-1.532300e+15</td>\n",
       "      <td>379711.0</td>\n",
       "      <td>9.86040</td>\n",
       "      <td>1</td>\n",
       "      <td>[29000000000002]</td>\n",
       "      <td>7.752</td>\n",
       "      <td>30</td>\n",
       "    </tr>\n",
       "    <tr>\n",
       "      <th>2</th>\n",
       "      <td>30000000000003</td>\n",
       "      <td>0</td>\n",
       "      <td>0</td>\n",
       "      <td>1.812960e+11</td>\n",
       "      <td>241</td>\n",
       "      <td>491253.186266</td>\n",
       "      <td>506600.519021</td>\n",
       "      <td>498656.249046</td>\n",
       "      <td>101.98</td>\n",
       "      <td>-141.81</td>\n",
       "      <td>...</td>\n",
       "      <td>1.0</td>\n",
       "      <td>5.204000e+15</td>\n",
       "      <td>-9.329820e+15</td>\n",
       "      <td>-2.178880e+15</td>\n",
       "      <td>214333.0</td>\n",
       "      <td>7.08470</td>\n",
       "      <td>1</td>\n",
       "      <td>[29000000000003]</td>\n",
       "      <td>7.752</td>\n",
       "      <td>30</td>\n",
       "    </tr>\n",
       "    <tr>\n",
       "      <th>3</th>\n",
       "      <td>30000000000004</td>\n",
       "      <td>0</td>\n",
       "      <td>1</td>\n",
       "      <td>1.645620e+11</td>\n",
       "      <td>220</td>\n",
       "      <td>520765.278074</td>\n",
       "      <td>496616.580420</td>\n",
       "      <td>492574.029499</td>\n",
       "      <td>-305.58</td>\n",
       "      <td>-41.74</td>\n",
       "      <td>...</td>\n",
       "      <td>1.0</td>\n",
       "      <td>4.482750e+15</td>\n",
       "      <td>-7.921780e+15</td>\n",
       "      <td>-1.766010e+15</td>\n",
       "      <td>198337.0</td>\n",
       "      <td>6.10724</td>\n",
       "      <td>1</td>\n",
       "      <td>[29000000000004]</td>\n",
       "      <td>7.752</td>\n",
       "      <td>30</td>\n",
       "    </tr>\n",
       "    <tr>\n",
       "      <th>4</th>\n",
       "      <td>30000000000005</td>\n",
       "      <td>0</td>\n",
       "      <td>0</td>\n",
       "      <td>1.569740e+11</td>\n",
       "      <td>201</td>\n",
       "      <td>507456.363858</td>\n",
       "      <td>510931.589313</td>\n",
       "      <td>491922.277454</td>\n",
       "      <td>-93.27</td>\n",
       "      <td>-142.26</td>\n",
       "      <td>...</td>\n",
       "      <td>1.0</td>\n",
       "      <td>4.508070e+15</td>\n",
       "      <td>-7.869930e+15</td>\n",
       "      <td>-1.525020e+15</td>\n",
       "      <td>192523.0</td>\n",
       "      <td>8.95382</td>\n",
       "      <td>1</td>\n",
       "      <td>[29000000000006]</td>\n",
       "      <td>7.752</td>\n",
       "      <td>30</td>\n",
       "    </tr>\n",
       "  </tbody>\n",
       "</table>\n",
       "<p>5 rows × 47 columns</p>\n",
       "</div>"
      ],
      "text/plain": [
       "               ID  hostHalo  numSubStruct          Mvir  npart             Xc  \\\n",
       "0  30000000000001         0             0  3.712890e+11    505  498292.985984   \n",
       "1  30000000000002         0             0  2.450840e+11    324  507884.732315   \n",
       "2  30000000000003         0             0  1.812960e+11    241  491253.186266   \n",
       "3  30000000000004         0             1  1.645620e+11    220  520765.278074   \n",
       "4  30000000000005         0             0  1.569740e+11    201  507456.363858   \n",
       "\n",
       "              Yc             Zc     VXc     VYc  ...  fMhires          Ekin  \\\n",
       "0  495865.218980  483857.668298  -87.25   99.64  ...      1.0  2.326100e+16   \n",
       "1  512334.181581  493302.051510  -68.14 -203.51  ...      1.0  1.117340e+16   \n",
       "2  506600.519021  498656.249046  101.98 -141.81  ...      1.0  5.204000e+15   \n",
       "3  496616.580420  492574.029499 -305.58  -41.74  ...      1.0  4.482750e+15   \n",
       "4  510931.589313  491922.277454  -93.27 -142.26  ...      1.0  4.508070e+15   \n",
       "\n",
       "           Epot         SurfP      Phi0      cNFW  numProgenitors  \\\n",
       "0 -3.859090e+16 -5.587780e+15  454302.0  10.71550               2   \n",
       "1 -1.911520e+16 -1.532300e+15  379711.0   9.86040               1   \n",
       "2 -9.329820e+15 -2.178880e+15  214333.0   7.08470               1   \n",
       "3 -7.921780e+15 -1.766010e+15  198337.0   6.10724               1   \n",
       "4 -7.869930e+15 -1.525020e+15  192523.0   8.95382               1   \n",
       "\n",
       "                      ProgenitorsID  redshift  snapshot  \n",
       "0  [29000000000001, 29000000000230]     7.752        30  \n",
       "1                  [29000000000002]     7.752        30  \n",
       "2                  [29000000000003]     7.752        30  \n",
       "3                  [29000000000004]     7.752        30  \n",
       "4                  [29000000000006]     7.752        30  \n",
       "\n",
       "[5 rows x 47 columns]"
      ]
     },
     "execution_count": 11,
     "metadata": {},
     "output_type": "execute_result"
    }
   ],
   "source": [
    "snapshot_df.head()"
   ]
  },
  {
   "cell_type": "code",
   "execution_count": 16,
   "id": "3e44fc96",
   "metadata": {},
   "outputs": [
    {
     "data": {
      "text/plain": [
       "count    744.00000\n",
       "mean       0.00672\n",
       "std        0.09683\n",
       "min        0.00000\n",
       "25%        0.00000\n",
       "50%        0.00000\n",
       "75%        0.00000\n",
       "max        2.00000\n",
       "Name: numSubStruct, dtype: float64"
      ]
     },
     "execution_count": 16,
     "metadata": {},
     "output_type": "execute_result"
    }
   ],
   "source": [
    "snapshot_df['numSubStruct'].describe()"
   ]
  },
  {
   "cell_type": "code",
   "execution_count": 17,
   "id": "7e5593b3",
   "metadata": {},
   "outputs": [
    {
     "data": {
      "text/plain": [
       "5"
      ]
     },
     "execution_count": 17,
     "metadata": {},
     "output_type": "execute_result"
    }
   ],
   "source": [
    "snapshot_df['numSubStruct'].sum()"
   ]
  },
  {
   "cell_type": "code",
   "execution_count": 19,
   "id": "825ee859",
   "metadata": {},
   "outputs": [
    {
     "data": {
      "text/html": [
       "<div>\n",
       "<style scoped>\n",
       "    .dataframe tbody tr th:only-of-type {\n",
       "        vertical-align: middle;\n",
       "    }\n",
       "\n",
       "    .dataframe tbody tr th {\n",
       "        vertical-align: top;\n",
       "    }\n",
       "\n",
       "    .dataframe thead th {\n",
       "        text-align: right;\n",
       "    }\n",
       "</style>\n",
       "<table border=\"1\" class=\"dataframe\">\n",
       "  <thead>\n",
       "    <tr style=\"text-align: right;\">\n",
       "      <th></th>\n",
       "      <th>ID</th>\n",
       "      <th>hostHalo</th>\n",
       "      <th>numSubStruct</th>\n",
       "      <th>Mvir</th>\n",
       "      <th>npart</th>\n",
       "      <th>Xc</th>\n",
       "      <th>Yc</th>\n",
       "      <th>Zc</th>\n",
       "      <th>VXc</th>\n",
       "      <th>VYc</th>\n",
       "      <th>...</th>\n",
       "      <th>fMhires</th>\n",
       "      <th>Ekin</th>\n",
       "      <th>Epot</th>\n",
       "      <th>SurfP</th>\n",
       "      <th>Phi0</th>\n",
       "      <th>cNFW</th>\n",
       "      <th>numProgenitors</th>\n",
       "      <th>ProgenitorsID</th>\n",
       "      <th>redshift</th>\n",
       "      <th>snapshot</th>\n",
       "    </tr>\n",
       "  </thead>\n",
       "  <tbody>\n",
       "    <tr>\n",
       "      <th>3</th>\n",
       "      <td>30000000000004</td>\n",
       "      <td>0</td>\n",
       "      <td>1</td>\n",
       "      <td>1.645620e+11</td>\n",
       "      <td>220</td>\n",
       "      <td>520765.278074</td>\n",
       "      <td>496616.580420</td>\n",
       "      <td>492574.029499</td>\n",
       "      <td>-305.58</td>\n",
       "      <td>-41.74</td>\n",
       "      <td>...</td>\n",
       "      <td>1.0</td>\n",
       "      <td>4.482750e+15</td>\n",
       "      <td>-7.921780e+15</td>\n",
       "      <td>-1.766010e+15</td>\n",
       "      <td>198337.0</td>\n",
       "      <td>6.10724</td>\n",
       "      <td>1</td>\n",
       "      <td>[29000000000004]</td>\n",
       "      <td>7.752</td>\n",
       "      <td>30</td>\n",
       "    </tr>\n",
       "    <tr>\n",
       "      <th>16</th>\n",
       "      <td>30000000000017</td>\n",
       "      <td>0</td>\n",
       "      <td>1</td>\n",
       "      <td>1.068230e+11</td>\n",
       "      <td>133</td>\n",
       "      <td>510033.976287</td>\n",
       "      <td>493979.342282</td>\n",
       "      <td>502006.504685</td>\n",
       "      <td>-185.75</td>\n",
       "      <td>29.54</td>\n",
       "      <td>...</td>\n",
       "      <td>1.0</td>\n",
       "      <td>2.224480e+15</td>\n",
       "      <td>-3.762300e+15</td>\n",
       "      <td>-6.798690e+14</td>\n",
       "      <td>126161.0</td>\n",
       "      <td>6.89443</td>\n",
       "      <td>1</td>\n",
       "      <td>[29000000000017]</td>\n",
       "      <td>7.752</td>\n",
       "      <td>30</td>\n",
       "    </tr>\n",
       "    <tr>\n",
       "      <th>17</th>\n",
       "      <td>30000000000018</td>\n",
       "      <td>0</td>\n",
       "      <td>1</td>\n",
       "      <td>1.068230e+11</td>\n",
       "      <td>133</td>\n",
       "      <td>502987.300528</td>\n",
       "      <td>498637.145963</td>\n",
       "      <td>482127.009795</td>\n",
       "      <td>-34.56</td>\n",
       "      <td>-67.19</td>\n",
       "      <td>...</td>\n",
       "      <td>1.0</td>\n",
       "      <td>2.109070e+15</td>\n",
       "      <td>-3.204540e+15</td>\n",
       "      <td>-1.364780e+15</td>\n",
       "      <td>115689.0</td>\n",
       "      <td>2.67717</td>\n",
       "      <td>1</td>\n",
       "      <td>[29000000000031]</td>\n",
       "      <td>7.752</td>\n",
       "      <td>30</td>\n",
       "    </tr>\n",
       "    <tr>\n",
       "      <th>32</th>\n",
       "      <td>30000000000033</td>\n",
       "      <td>0</td>\n",
       "      <td>2</td>\n",
       "      <td>7.845660e+10</td>\n",
       "      <td>96</td>\n",
       "      <td>477814.834742</td>\n",
       "      <td>498088.832412</td>\n",
       "      <td>482249.929791</td>\n",
       "      <td>173.71</td>\n",
       "      <td>158.98</td>\n",
       "      <td>...</td>\n",
       "      <td>1.0</td>\n",
       "      <td>1.464860e+15</td>\n",
       "      <td>-2.291230e+15</td>\n",
       "      <td>-4.800320e+14</td>\n",
       "      <td>109626.0</td>\n",
       "      <td>7.18767</td>\n",
       "      <td>1</td>\n",
       "      <td>[29000000000034]</td>\n",
       "      <td>7.752</td>\n",
       "      <td>30</td>\n",
       "    </tr>\n",
       "  </tbody>\n",
       "</table>\n",
       "<p>4 rows × 47 columns</p>\n",
       "</div>"
      ],
      "text/plain": [
       "                ID  hostHalo  numSubStruct          Mvir  npart  \\\n",
       "3   30000000000004         0             1  1.645620e+11    220   \n",
       "16  30000000000017         0             1  1.068230e+11    133   \n",
       "17  30000000000018         0             1  1.068230e+11    133   \n",
       "32  30000000000033         0             2  7.845660e+10     96   \n",
       "\n",
       "               Xc             Yc             Zc     VXc     VYc  ...  fMhires  \\\n",
       "3   520765.278074  496616.580420  492574.029499 -305.58  -41.74  ...      1.0   \n",
       "16  510033.976287  493979.342282  502006.504685 -185.75   29.54  ...      1.0   \n",
       "17  502987.300528  498637.145963  482127.009795  -34.56  -67.19  ...      1.0   \n",
       "32  477814.834742  498088.832412  482249.929791  173.71  158.98  ...      1.0   \n",
       "\n",
       "            Ekin          Epot         SurfP      Phi0     cNFW  \\\n",
       "3   4.482750e+15 -7.921780e+15 -1.766010e+15  198337.0  6.10724   \n",
       "16  2.224480e+15 -3.762300e+15 -6.798690e+14  126161.0  6.89443   \n",
       "17  2.109070e+15 -3.204540e+15 -1.364780e+15  115689.0  2.67717   \n",
       "32  1.464860e+15 -2.291230e+15 -4.800320e+14  109626.0  7.18767   \n",
       "\n",
       "    numProgenitors     ProgenitorsID  redshift  snapshot  \n",
       "3                1  [29000000000004]     7.752        30  \n",
       "16               1  [29000000000017]     7.752        30  \n",
       "17               1  [29000000000031]     7.752        30  \n",
       "32               1  [29000000000034]     7.752        30  \n",
       "\n",
       "[4 rows x 47 columns]"
      ]
     },
     "execution_count": 19,
     "metadata": {},
     "output_type": "execute_result"
    }
   ],
   "source": [
    "subStruct = snapshot_df[snapshot_df['numSubStruct'] > 0]\n",
    "subStruct"
   ]
  },
  {
   "cell_type": "code",
   "execution_count": 16,
   "id": "35bd7a7e",
   "metadata": {},
   "outputs": [
    {
     "name": "stderr",
     "output_type": "stream",
     "text": [
      "c:\\Users\\hohim\\anaconda3\\envs\\ML\\lib\\site-packages\\sklearn\\base.py:443: UserWarning: X has feature names, but DecisionTreeClassifier was fitted without feature names\n",
      "  warnings.warn(\n"
     ]
    },
    {
     "data": {
      "text/plain": [
       "array([0, 0, 0, ..., 0, 0, 0], dtype=int64)"
      ]
     },
     "execution_count": 16,
     "metadata": {},
     "output_type": "execute_result"
    }
   ],
   "source": [
    "from itertools import combinations\n",
    "# Create all possible pairs of halos\n",
    "halo_pairs = list(combinations(snapshot_df.index, 2))\n",
    "\n",
    "# Initialize lists to hold the features for each pair\n",
    "features = ['relative_position', 'relative_velocity', 'mass1', 'mass2', 'numSubStruct1', 'numSubStruct2', \n",
    "            'sigV1', 'sigV2', 'lambda1', 'lambda2', 'cNFW1', 'cNFW2', 'Ekin1', 'Ekin2', 'Epot1', \n",
    "            'Epot2', 'ovdens1', 'ovdens2']\n",
    "data = {feature: [] for feature in features}\n",
    "\n",
    "# Calculate the features for each pair\n",
    "for pair in halo_pairs:\n",
    "    halo1 = snapshot_df.loc[pair[0]]\n",
    "    halo2 = snapshot_df.loc[pair[1]]\n",
    "    \n",
    "    position1 = np.array([halo1['Xc'], halo1['Yc'], halo1['Zc']])\n",
    "    position2 = np.array([halo2['Xc'], halo2['Yc'], halo2['Zc']])\n",
    "    velocity1 = np.array([halo1['VXc'], halo1['VYc'], halo1['VZc']])\n",
    "    velocity2 = np.array([halo2['VXc'], halo2['VYc'], halo2['VZc']])\n",
    "\n",
    "    data['relative_position'].append(np.linalg.norm(position1 - position2))\n",
    "    data['relative_velocity'].append(np.linalg.norm(velocity1 - velocity2))\n",
    "    data['mass1'].append(halo1['Mvir'])\n",
    "    data['mass2'].append(halo2['Mvir'])\n",
    "    data['numSubStruct1'].append(halo1['numSubStruct'])\n",
    "    data['numSubStruct2'].append(halo2['numSubStruct'])\n",
    "    data['sigV1'].append(halo1['sigV'])\n",
    "    data['sigV2'].append(halo2['sigV'])\n",
    "    data['lambda1'].append(halo1['lambda'])\n",
    "    data['lambda2'].append(halo2['lambda'])\n",
    "    data['cNFW1'].append(halo1['cNFW'])\n",
    "    data['cNFW2'].append(halo2['cNFW'])\n",
    "    data['Ekin1'].append(halo1['Ekin'])\n",
    "    data['Ekin2'].append(halo2['Ekin'])\n",
    "    data['Epot1'].append(halo1['Epot'])\n",
    "    data['Epot2'].append(halo2['Epot'])\n",
    "    data['ovdens1'].append(halo1['ovdens'])\n",
    "    data['ovdens2'].append(halo2['ovdens'])\n",
    "\n",
    "# Prepare the features for prediction\n",
    "prediction_features = pd.DataFrame(data)\n",
    "\n",
    "# Use the decision tree model to make predictions\n",
    "predictions = tree_clf.predict(prediction_features)\n",
    "\n",
    "predictions\n"
   ]
  },
  {
   "cell_type": "code",
   "execution_count": 17,
   "id": "5d170686",
   "metadata": {},
   "outputs": [
    {
     "data": {
      "text/plain": [
       "0    274972\n",
       "1      1424\n",
       "Name: will_merge, dtype: int64"
      ]
     },
     "execution_count": 17,
     "metadata": {},
     "output_type": "execute_result"
    }
   ],
   "source": [
    "# Create a DataFrame with the pairs of halo IDs and the prediction results\n",
    "prediction_df = pd.DataFrame({\n",
    "    'pair': [(snapshot_df.loc[pair[0]]['ID'], snapshot_df.loc[pair[1]]['ID']) for pair in halo_pairs],\n",
    "    'will_merge': predictions\n",
    "})\n",
    "\n",
    "merge_counts = prediction_df['will_merge'].value_counts()\n",
    "merge_counts"
   ]
  },
  {
   "cell_type": "markdown",
   "id": "602257ab",
   "metadata": {},
   "source": [
    "# Ground truth comparison"
   ]
  },
  {
   "cell_type": "code",
   "execution_count": 18,
   "id": "12eb58d1",
   "metadata": {},
   "outputs": [],
   "source": [
    "# Load the snapshot data with the ground truth\n",
    "snapshot_df_gt = pd.read_csv('../Preprocess/GadgetX-NewMDCLUSTER-2/combined-csv/GadgetX-NewMDCLUSTER_0008.snap_031.z7.510_combined.csv')"
   ]
  },
  {
   "cell_type": "code",
   "execution_count": 19,
   "id": "679d3f36",
   "metadata": {},
   "outputs": [
    {
     "data": {
      "text/plain": [
       "0.9948515897480427"
      ]
     },
     "execution_count": 19,
     "metadata": {},
     "output_type": "execute_result"
    }
   ],
   "source": [
    "# Extract pairs of progenitors, handle cases where the string contains brackets or other non-numeric characters\n",
    "progenitor_pairs_gt = snapshot_df_gt['ProgenitorsID'].apply(\n",
    "    lambda x: tuple(map(int, x.strip('[]').split(','))) if isinstance(x, str) else (np.nan,))\n",
    "\n",
    "# Create a DataFrame with the pairs of halo IDs and the ground truth\n",
    "ground_truth_df = pd.DataFrame({\n",
    "    'pair': progenitor_pairs_gt,\n",
    "    'did_merge': ~snapshot_df_gt['ProgenitorsID'].isna()\n",
    "})\n",
    "\n",
    "# Merge the ground truth with the predicted results\n",
    "comparison_df = pd.merge(prediction_df, ground_truth_df, how='left', on='pair')\n",
    "\n",
    "comparison_df['did_merge'].fillna(False, inplace=True)\n",
    "\n",
    "accuracy = (comparison_df['will_merge'] == comparison_df['did_merge']).mean()\n",
    "accuracy\n"
   ]
  },
  {
   "cell_type": "code",
   "execution_count": 20,
   "id": "e8c92388",
   "metadata": {},
   "outputs": [
    {
     "data": {
      "text/plain": [
       "False    276395\n",
       "True          1\n",
       "Name: did_merge, dtype: int64"
      ]
     },
     "execution_count": 20,
     "metadata": {},
     "output_type": "execute_result"
    }
   ],
   "source": [
    "true_merge_counts = comparison_df['did_merge'].value_counts()\n",
    "true_merge_counts"
   ]
  },
  {
   "cell_type": "code",
   "execution_count": 21,
   "id": "dc347eb3",
   "metadata": {},
   "outputs": [],
   "source": [
    "comparison_df.to_csv('comparison.csv', index=False)"
   ]
  },
  {
   "cell_type": "code",
   "execution_count": 22,
   "id": "b26ab63d",
   "metadata": {},
   "outputs": [
    {
     "data": {
      "text/plain": [
       "array([[274972,   1423],\n",
       "       [     0,      1]], dtype=int64)"
      ]
     },
     "execution_count": 22,
     "metadata": {},
     "output_type": "execute_result"
    }
   ],
   "source": [
    "# Convert the 'did_merge' column to the same data type as 'will_merge'\n",
    "comparison_df['did_merge'] = comparison_df['did_merge'].astype(int)\n",
    "\n",
    "confusion_mat = confusion_matrix(comparison_df['did_merge'], comparison_df['will_merge'])\n",
    "\n",
    "confusion_mat"
   ]
  },
  {
   "cell_type": "code",
   "execution_count": 23,
   "id": "052fdb25",
   "metadata": {},
   "outputs": [
    {
     "data": {
      "image/png": "[encoded data removed]",
      "text/plain": [
       "<Figure size 432x432 with 1 Axes>"
      ]
     },
     "metadata": {
      "needs_background": "light"
     },
     "output_type": "display_data"
    }
   ],
   "source": [
    "fig, ax = plt.subplots(figsize=(6,6))\n",
    "ax.matshow(confusion_mat, cmap=plt.cm.Blues, alpha=0.3)\n",
    "for i in range(confusion_mat.shape[0]):\n",
    "    for j in range(confusion_mat.shape[1]):\n",
    "        ax.text(x=j, y=i, s=confusion_mat[i,j], va='center', ha='center', size='xx-large')\n",
    "\n",
    "classes = ['Will not merge', 'Will merge']\n",
    "plt.xlabel('Predictions', fontsize=18)\n",
    "plt.ylabel('Actuals', fontsize=18)\n",
    "plt.title('Confusion Matrix', fontsize=18)\n",
    "tick_marks = np.arange(len(classes))\n",
    "plt.xticks(tick_marks, classes, rotation=45, fontsize=12)\n",
    "plt.yticks(tick_marks, classes, fontsize=12)\n",
    "plt.show()\n"
   ]
  },
  {
   "cell_type": "markdown",
   "id": "f6f6ca21",
   "metadata": {},
   "source": [
    "# RandomForest with 0.99 threshold"
   ]
  },
  {
   "cell_type": "code",
   "execution_count": 39,
   "id": "68d68557",
   "metadata": {},
   "outputs": [
    {
     "name": "stderr",
     "output_type": "stream",
     "text": [
      "c:\\Users\\hohim\\anaconda3\\envs\\ML\\lib\\site-packages\\sklearn\\base.py:443: UserWarning: X has feature names, but RandomForestClassifier was fitted without feature names\n",
      "  warnings.warn(\n"
     ]
    },
    {
     "data": {
      "text/plain": [
       "0    276214\n",
       "1       182\n",
       "Name: will_merge, dtype: int64"
      ]
     },
     "execution_count": 39,
     "metadata": {},
     "output_type": "execute_result"
    }
   ],
   "source": [
    "from sklearn.ensemble import RandomForestClassifier\n",
    "\n",
    "# Initialize the Random Forest classifier\n",
    "forest_clf = RandomForestClassifier(n_estimators=100, random_state=36)\n",
    "\n",
    "# Train the classifier\n",
    "forest_clf.fit(X_train, y_train)\n",
    "\n",
    "probs_rf = forest_clf.predict_proba(prediction_features)\n",
    "threshold_rf = 0.99\n",
    "predictions_rf = np.where(probs_rf[:,1] > threshold_rf, 1, 0)\n",
    "\n",
    "# Create a DataFrame with the pairs of halo IDs and the prediction results\n",
    "prediction_df_rf = pd.DataFrame({\n",
    "    'pair': [(snapshot_df.loc[pair[0]]['ID'], snapshot_df.loc[pair[1]]['ID']) for pair in halo_pairs],\n",
    "    'will_merge': predictions_rf\n",
    "})\n",
    "\n",
    "merge_counts_rf = prediction_df_rf['will_merge'].value_counts()\n",
    "merge_counts_rf"
   ]
  },
  {
   "cell_type": "code",
   "execution_count": 40,
   "id": "d5a120b2",
   "metadata": {},
   "outputs": [
    {
     "data": {
      "image/png": "[encoded data removed]",
      "text/plain": [
       "<Figure size 432x432 with 1 Axes>"
      ]
     },
     "metadata": {
      "needs_background": "light"
     },
     "output_type": "display_data"
    }
   ],
   "source": [
    "comparison_df_rf = pd.merge(prediction_df_rf, ground_truth_df, how='left', on='pair')\n",
    "\n",
    "comparison_df_rf['did_merge'].fillna(False, inplace=True)\n",
    "\n",
    "comparison_df_rf['did_merge'] = comparison_df_rf['did_merge'].astype(int)\n",
    "\n",
    "comparison_df_rf = confusion_matrix(comparison_df_rf['did_merge'], comparison_df_rf['will_merge'])\n",
    "\n",
    "fig, ax = plt.subplots(figsize=(6,6))\n",
    "ax.matshow(comparison_df_rf, cmap=plt.cm.Blues, alpha=0.3)\n",
    "for i in range(comparison_df_rf.shape[0]):\n",
    "    for j in range(comparison_df_rf.shape[1]):\n",
    "        ax.text(x=j, y=i, s=comparison_df_rf[i,j], va='center', ha='center', size='xx-large')\n",
    " \n",
    "classes = ['Will not merge', 'Will merge']\n",
    "plt.xlabel('Predictions', fontsize=18)\n",
    "plt.ylabel('Actuals', fontsize=18)\n",
    "plt.title('Confusion Matrix', fontsize=18)\n",
    "tick_marks = np.arange(len(classes))\n",
    "plt.xticks(tick_marks, classes, rotation=45, fontsize=12)\n",
    "plt.yticks(tick_marks, classes, fontsize=12)\n",
    "plt.show()\n"
   ]
  },
  {
   "cell_type": "markdown",
   "id": "225f0d20",
   "metadata": {},
   "source": [
    "# Gradient Boosting with 0.99 threshold"
   ]
  },
  {
   "cell_type": "code",
   "execution_count": 45,
   "id": "3dc927a2",
   "metadata": {},
   "outputs": [
    {
     "name": "stderr",
     "output_type": "stream",
     "text": [
      "c:\\Users\\hohim\\anaconda3\\envs\\ML\\lib\\site-packages\\sklearn\\base.py:443: UserWarning: X has feature names, but GradientBoostingClassifier was fitted without feature names\n",
      "  warnings.warn(\n"
     ]
    },
    {
     "data": {
      "text/plain": [
       "0    275695\n",
       "1       701\n",
       "Name: will_merge, dtype: int64"
      ]
     },
     "execution_count": 45,
     "metadata": {},
     "output_type": "execute_result"
    }
   ],
   "source": [
    "from sklearn.ensemble import GradientBoostingClassifier\n",
    "\n",
    "# Initialize the Gradient Boosting classifier\n",
    "gb_clf = GradientBoostingClassifier(n_estimators=100, learning_rate=0.1, random_state=36)\n",
    "\n",
    "# Train the classifier\n",
    "gb_clf.fit(X_train, y_train)\n",
    "\n",
    "probs_gb = gb_clf.predict_proba(prediction_features)\n",
    "threshold_gb = 0.99\n",
    "predictions_gb = np.where(probs_gb[:,1] > threshold_gb, 1, 0)\n",
    "\n",
    "# Create a DataFrame with the pairs of halo IDs and the prediction results\n",
    "prediction_df_gb = pd.DataFrame({\n",
    "    'pair': [(snapshot_df.loc[pair[0]]['ID'], snapshot_df.loc[pair[1]]['ID']) for pair in halo_pairs],\n",
    "    'will_merge': predictions_gb\n",
    "})\n",
    "\n",
    "merge_counts_gb = prediction_df_gb['will_merge'].value_counts()\n",
    "merge_counts_gb"
   ]
  },
  {
   "cell_type": "code",
   "execution_count": 46,
   "id": "8d3f3765",
   "metadata": {},
   "outputs": [
    {
     "data": {
      "image/png": "[encoded data removed]",
      "text/plain": [
       "<Figure size 432x432 with 1 Axes>"
      ]
     },
     "metadata": {
      "needs_background": "light"
     },
     "output_type": "display_data"
    }
   ],
   "source": [
    "comparison_df_gb = pd.merge(prediction_df_gb, ground_truth_df, how='left', on='pair')\n",
    "\n",
    "comparison_df_gb['did_merge'].fillna(False, inplace=True)\n",
    "\n",
    "comparison_df_gb['did_merge'] = comparison_df_gb['did_merge'].astype(int)\n",
    "\n",
    "confusion_mat_gb = confusion_matrix(comparison_df_gb['did_merge'], comparison_df_gb['will_merge'])\n",
    "\n",
    "fig, ax = plt.subplots(figsize=(6,6))\n",
    "ax.matshow(confusion_mat_gb, cmap=plt.cm.Blues, alpha=0.3)\n",
    "for i in range(confusion_mat_gb.shape[0]):\n",
    "    for j in range(confusion_mat_gb.shape[1]):\n",
    "        ax.text(x=j, y=i, s=confusion_mat_gb[i,j], va='center', ha='center', size='xx-large')\n",
    " \n",
    "classes = ['Will not merge', 'Will merge']\n",
    "plt.xlabel('Predictions', fontsize=18)\n",
    "plt.ylabel('Actuals', fontsize=18)\n",
    "plt.title('Confusion Matrix (Gradient Boosting)', fontsize=18)\n",
    "tick_marks = np.arange(len(classes))\n",
    "plt.xticks(tick_marks, classes, rotation=45, fontsize=12)\n",
    "plt.yticks(tick_marks, classes, fontsize=12)\n",
    "plt.show()\n"
   ]
  }
 ],
 "metadata": {
  "kernelspec": {
   "display_name": "Python 3 (ipykernel)",
   "language": "python",
   "name": "python3"
  },
  "language_info": {
   "codemirror_mode": {
    "name": "ipython",
    "version": 3
   },
   "file_extension": ".py",
   "mimetype": "text/x-python",
   "name": "python",
   "nbconvert_exporter": "python",
   "pygments_lexer": "ipython3",
   "version": "3.9.12"
  }
 },
 "nbformat": 4,
 "nbformat_minor": 5
}
