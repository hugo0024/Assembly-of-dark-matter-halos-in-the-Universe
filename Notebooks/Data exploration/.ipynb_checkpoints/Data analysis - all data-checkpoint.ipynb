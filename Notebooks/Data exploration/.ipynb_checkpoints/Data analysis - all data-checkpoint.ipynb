{
 "cells": [
  {
   "cell_type": "markdown",
   "id": "c06bf514",
   "metadata": {},
   "source": [
    "# Data analysis - all data"
   ]
  },
  {
   "cell_type": "code",
   "execution_count": 3,
   "id": "62b4f1ed",
   "metadata": {},
   "outputs": [],
   "source": [
    "import os\n",
    "import pandas as pd\n",
    "import numpy as np\n",
    "import matplotlib.pyplot as plt\n",
    "import seaborn as sns\n",
    "\n",
    "from sklearn.preprocessing import StandardScaler"
   ]
  },
  {
   "cell_type": "code",
   "execution_count": 4,
   "id": "36f93682",
   "metadata": {},
   "outputs": [
    {
     "data": {
      "text/plain": [
       "True"
      ]
     },
     "execution_count": 4,
     "metadata": {},
     "output_type": "execute_result"
    }
   ],
   "source": [
    "filename = '../Preprocess/GadgetX-NewMDCLUSTER-1/combined-csv/GadgetX-NewMDCLUSTER_0001.snap_000.z16.981_combined.csv'\n",
    "os.path.exists(filename)"
   ]
  },
  {
   "cell_type": "code",
   "execution_count": 5,
   "id": "e412fbd1",
   "metadata": {},
   "outputs": [],
   "source": [
    "file_names = os.listdir('../Preprocess/GadgetX-NewMDCLUSTER-1/combined-csv/')"
   ]
  },
  {
   "cell_type": "code",
   "execution_count": 6,
   "id": "c7d0e060",
   "metadata": {},
   "outputs": [],
   "source": [
    "dataframes = []\n",
    "for file_name in file_names:\n",
    "    df = pd.read_csv(f'../Preprocess/GadgetX-NewMDCLUSTER-1/combined-csv/{file_name}')\n",
    "    dataframes.append(df)"
   ]
  },
  {
   "cell_type": "code",
   "execution_count": 7,
   "id": "3bf4c1c2",
   "metadata": {},
   "outputs": [],
   "source": [
    "all_data = pd.concat(dataframes)"
   ]
  },
  {
   "cell_type": "code",
   "execution_count": 8,
   "id": "4b3e4c66",
   "metadata": {},
   "outputs": [
    {
     "data": {
      "text/html": [
       "<div>\n",
       "<style scoped>\n",
       "    .dataframe tbody tr th:only-of-type {\n",
       "        vertical-align: middle;\n",
       "    }\n",
       "\n",
       "    .dataframe tbody tr th {\n",
       "        vertical-align: top;\n",
       "    }\n",
       "\n",
       "    .dataframe thead th {\n",
       "        text-align: right;\n",
       "    }\n",
       "</style>\n",
       "<table border=\"1\" class=\"dataframe\">\n",
       "  <thead>\n",
       "    <tr style=\"text-align: right;\">\n",
       "      <th></th>\n",
       "      <th>ID</th>\n",
       "      <th>hostHalo</th>\n",
       "      <th>numSubStruct</th>\n",
       "      <th>Mvir</th>\n",
       "      <th>npart</th>\n",
       "      <th>Xc</th>\n",
       "      <th>Yc</th>\n",
       "      <th>Zc</th>\n",
       "      <th>VXc</th>\n",
       "      <th>VYc</th>\n",
       "      <th>...</th>\n",
       "      <th>fMhires</th>\n",
       "      <th>Ekin</th>\n",
       "      <th>Epot</th>\n",
       "      <th>SurfP</th>\n",
       "      <th>Phi0</th>\n",
       "      <th>cNFW</th>\n",
       "      <th>numProgenitors</th>\n",
       "      <th>ProgenitorsID</th>\n",
       "      <th>redshift</th>\n",
       "      <th>snapshot</th>\n",
       "    </tr>\n",
       "  </thead>\n",
       "  <tbody>\n",
       "    <tr>\n",
       "      <th>0</th>\n",
       "      <td>81000000000001</td>\n",
       "      <td>0</td>\n",
       "      <td>105</td>\n",
       "      <td>9.933340e+13</td>\n",
       "      <td>162795</td>\n",
       "      <td>503449.718646</td>\n",
       "      <td>493492.809038</td>\n",
       "      <td>511552.013287</td>\n",
       "      <td>-96.43</td>\n",
       "      <td>213.56</td>\n",
       "      <td>...</td>\n",
       "      <td>0.999688</td>\n",
       "      <td>6.280990e+19</td>\n",
       "      <td>-9.040170e+19</td>\n",
       "      <td>-4.096980e+19</td>\n",
       "      <td>4071250.0</td>\n",
       "      <td>2.34438</td>\n",
       "      <td>7</td>\n",
       "      <td>[80000000000001, 80000000004156, 8000000001895...</td>\n",
       "      <td>1.83</td>\n",
       "      <td>81</td>\n",
       "    </tr>\n",
       "    <tr>\n",
       "      <th>1</th>\n",
       "      <td>81000000000002</td>\n",
       "      <td>0</td>\n",
       "      <td>34</td>\n",
       "      <td>4.309300e+13</td>\n",
       "      <td>69610</td>\n",
       "      <td>497819.310267</td>\n",
       "      <td>502133.020435</td>\n",
       "      <td>502670.240503</td>\n",
       "      <td>296.00</td>\n",
       "      <td>-334.38</td>\n",
       "      <td>...</td>\n",
       "      <td>0.999760</td>\n",
       "      <td>1.855080e+19</td>\n",
       "      <td>-2.657860e+19</td>\n",
       "      <td>-6.445300e+18</td>\n",
       "      <td>3824820.0</td>\n",
       "      <td>4.14485</td>\n",
       "      <td>2</td>\n",
       "      <td>[80000000000002, 80000000016459]</td>\n",
       "      <td>1.83</td>\n",
       "      <td>81</td>\n",
       "    </tr>\n",
       "    <tr>\n",
       "      <th>2</th>\n",
       "      <td>81000000000003</td>\n",
       "      <td>0</td>\n",
       "      <td>28</td>\n",
       "      <td>4.091970e+13</td>\n",
       "      <td>69538</td>\n",
       "      <td>500359.514317</td>\n",
       "      <td>503206.438832</td>\n",
       "      <td>503467.475439</td>\n",
       "      <td>-107.35</td>\n",
       "      <td>-212.51</td>\n",
       "      <td>...</td>\n",
       "      <td>0.999821</td>\n",
       "      <td>2.003550e+19</td>\n",
       "      <td>-2.267750e+19</td>\n",
       "      <td>-9.798490e+18</td>\n",
       "      <td>2969800.0</td>\n",
       "      <td>3.58897</td>\n",
       "      <td>3</td>\n",
       "      <td>[80000000000004, 80000000021300, 80000000019917]</td>\n",
       "      <td>1.83</td>\n",
       "      <td>81</td>\n",
       "    </tr>\n",
       "    <tr>\n",
       "      <th>3</th>\n",
       "      <td>81000000000004</td>\n",
       "      <td>0</td>\n",
       "      <td>28</td>\n",
       "      <td>3.346460e+13</td>\n",
       "      <td>55223</td>\n",
       "      <td>502263.162043</td>\n",
       "      <td>484861.233018</td>\n",
       "      <td>506330.124744</td>\n",
       "      <td>-219.75</td>\n",
       "      <td>297.48</td>\n",
       "      <td>...</td>\n",
       "      <td>0.999644</td>\n",
       "      <td>1.116100e+19</td>\n",
       "      <td>-1.619410e+19</td>\n",
       "      <td>-6.880610e+18</td>\n",
       "      <td>2087790.0</td>\n",
       "      <td>2.33095</td>\n",
       "      <td>2</td>\n",
       "      <td>[80000000000005, 80000000006610]</td>\n",
       "      <td>1.83</td>\n",
       "      <td>81</td>\n",
       "    </tr>\n",
       "    <tr>\n",
       "      <th>4</th>\n",
       "      <td>81000000000005</td>\n",
       "      <td>0</td>\n",
       "      <td>21</td>\n",
       "      <td>3.032440e+13</td>\n",
       "      <td>49957</td>\n",
       "      <td>497476.316316</td>\n",
       "      <td>499433.486199</td>\n",
       "      <td>503467.398948</td>\n",
       "      <td>168.69</td>\n",
       "      <td>220.03</td>\n",
       "      <td>...</td>\n",
       "      <td>0.999614</td>\n",
       "      <td>8.595400e+18</td>\n",
       "      <td>-1.365720e+19</td>\n",
       "      <td>-4.572200e+18</td>\n",
       "      <td>2243200.0</td>\n",
       "      <td>2.43243</td>\n",
       "      <td>3</td>\n",
       "      <td>[80000000000006, 80000000021323, 80000000005358]</td>\n",
       "      <td>1.83</td>\n",
       "      <td>81</td>\n",
       "    </tr>\n",
       "  </tbody>\n",
       "</table>\n",
       "<p>5 rows × 47 columns</p>\n",
       "</div>"
      ],
      "text/plain": [
       "               ID hostHalo numSubStruct          Mvir   npart             Xc  \\\n",
       "0  81000000000001        0          105  9.933340e+13  162795  503449.718646   \n",
       "1  81000000000002        0           34  4.309300e+13   69610  497819.310267   \n",
       "2  81000000000003        0           28  4.091970e+13   69538  500359.514317   \n",
       "3  81000000000004        0           28  3.346460e+13   55223  502263.162043   \n",
       "4  81000000000005        0           21  3.032440e+13   49957  497476.316316   \n",
       "\n",
       "              Yc             Zc     VXc     VYc  ...   fMhires          Ekin  \\\n",
       "0  493492.809038  511552.013287  -96.43  213.56  ...  0.999688  6.280990e+19   \n",
       "1  502133.020435  502670.240503  296.00 -334.38  ...  0.999760  1.855080e+19   \n",
       "2  503206.438832  503467.475439 -107.35 -212.51  ...  0.999821  2.003550e+19   \n",
       "3  484861.233018  506330.124744 -219.75  297.48  ...  0.999644  1.116100e+19   \n",
       "4  499433.486199  503467.398948  168.69  220.03  ...  0.999614  8.595400e+18   \n",
       "\n",
       "           Epot         SurfP       Phi0     cNFW  numProgenitors  \\\n",
       "0 -9.040170e+19 -4.096980e+19  4071250.0  2.34438               7   \n",
       "1 -2.657860e+19 -6.445300e+18  3824820.0  4.14485               2   \n",
       "2 -2.267750e+19 -9.798490e+18  2969800.0  3.58897               3   \n",
       "3 -1.619410e+19 -6.880610e+18  2087790.0  2.33095               2   \n",
       "4 -1.365720e+19 -4.572200e+18  2243200.0  2.43243               3   \n",
       "\n",
       "                                       ProgenitorsID  redshift  snapshot  \n",
       "0  [80000000000001, 80000000004156, 8000000001895...      1.83        81  \n",
       "1                   [80000000000002, 80000000016459]      1.83        81  \n",
       "2   [80000000000004, 80000000021300, 80000000019917]      1.83        81  \n",
       "3                   [80000000000005, 80000000006610]      1.83        81  \n",
       "4   [80000000000006, 80000000021323, 80000000005358]      1.83        81  \n",
       "\n",
       "[5 rows x 47 columns]"
      ]
     },
     "execution_count": 8,
     "metadata": {},
     "output_type": "execute_result"
    }
   ],
   "source": [
    "all_data.head()"
   ]
  },
  {
   "cell_type": "code",
   "execution_count": 9,
   "id": "d56e84c9",
   "metadata": {},
   "outputs": [],
   "source": [
    "y = all_data.Mvir\n",
    "X = all_data.drop(columns=['ID','hostHalo','Mvir','ProgenitorsID'])"
   ]
  },
  {
   "cell_type": "code",
   "execution_count": 10,
   "id": "257cdeba",
   "metadata": {},
   "outputs": [
    {
     "name": "stdout",
     "output_type": "stream",
     "text": [
      "Index(['numSubStruct', 'npart', 'Xc', 'Yc', 'Zc', 'VXc', 'VYc', 'VZc', 'Rvir',\n",
      "       'Rmax', 'r2', 'mbp_offset', 'com_offset', 'Vmax', 'v_esc', 'sigV',\n",
      "       'lambda', 'lambdaE', 'Lx', 'Ly', 'Lz', 'b', 'c', 'Eax', 'Eay', 'Eaz',\n",
      "       'Ebx', 'Eby', 'Ebz', 'Ecx', 'Ecy', 'Ecz', 'ovdens', 'nbins', 'fMhires',\n",
      "       'Ekin', 'Epot', 'SurfP', 'Phi0', 'cNFW', 'numProgenitors', 'redshift',\n",
      "       'snapshot'],\n",
      "      dtype='object')\n"
     ]
    }
   ],
   "source": [
    "col = X.columns\n",
    "print(col)"
   ]
  },
  {
   "cell_type": "code",
   "execution_count": 11,
   "id": "2d809b23",
   "metadata": {},
   "outputs": [
    {
     "name": "stdout",
     "output_type": "stream",
     "text": [
      "<class 'pandas.core.frame.DataFrame'>\n",
      "Int64Index: 1904194 entries, 0 to 223\n",
      "Data columns (total 43 columns):\n",
      " #   Column          Dtype  \n",
      "---  ------          -----  \n",
      " 0   numSubStruct    object \n",
      " 1   npart           object \n",
      " 2   Xc              float64\n",
      " 3   Yc              float64\n",
      " 4   Zc              float64\n",
      " 5   VXc             float64\n",
      " 6   VYc             float64\n",
      " 7   VZc             float64\n",
      " 8   Rvir            float64\n",
      " 9   Rmax            float64\n",
      " 10  r2              float64\n",
      " 11  mbp_offset      float64\n",
      " 12  com_offset      float64\n",
      " 13  Vmax            float64\n",
      " 14  v_esc           float64\n",
      " 15  sigV            float64\n",
      " 16  lambda          float64\n",
      " 17  lambdaE         float64\n",
      " 18  Lx              float64\n",
      " 19  Ly              float64\n",
      " 20  Lz              float64\n",
      " 21  b               float64\n",
      " 22  c               float64\n",
      " 23  Eax             float64\n",
      " 24  Eay             float64\n",
      " 25  Eaz             float64\n",
      " 26  Ebx             float64\n",
      " 27  Eby             float64\n",
      " 28  Ebz             float64\n",
      " 29  Ecx             float64\n",
      " 30  Ecy             float64\n",
      " 31  Ecz             float64\n",
      " 32  ovdens          float64\n",
      " 33  nbins           object \n",
      " 34  fMhires         float64\n",
      " 35  Ekin            float64\n",
      " 36  Epot            float64\n",
      " 37  SurfP           float64\n",
      " 38  Phi0            float64\n",
      " 39  cNFW            float64\n",
      " 40  numProgenitors  object \n",
      " 41  redshift        float64\n",
      " 42  snapshot        object \n",
      "dtypes: float64(38), object(5)\n",
      "memory usage: 639.2+ MB\n"
     ]
    }
   ],
   "source": [
    "X.info()"
   ]
  },
  {
   "cell_type": "code",
   "execution_count": 12,
   "id": "2ad5bf7a",
   "metadata": {},
   "outputs": [],
   "source": [
    "# Convert string objects to literals\n",
    "X['numSubStruct'] = X['numSubStruct'].astype(int)\n",
    "X['npart'] = X['npart'].astype(int)\n",
    "X['nbins'] = X['nbins'].astype(int)\n",
    "X['numProgenitors'] = X['numProgenitors'].astype(int)\n",
    "X['snapshot'] = X['snapshot'].astype(int)"
   ]
  },
  {
   "cell_type": "code",
   "execution_count": 13,
   "id": "73490056",
   "metadata": {},
   "outputs": [
    {
     "name": "stderr",
     "output_type": "stream",
     "text": [
      "/home/roscopikotrain/programs/anaconda3/lib/python3.8/site-packages/seaborn/distributions.py:2557: FutureWarning: `distplot` is a deprecated function and will be removed in a future version. Please adapt your code to use either `displot` (a figure-level function with similar flexibility) or `histplot` (an axes-level function for histograms).\n",
      "  warnings.warn(msg, FutureWarning)\n"
     ]
    },
    {
     "data": {
      "text/plain": [
       "<AxesSubplot:xlabel='Mvir', ylabel='Density'>"
      ]
     },
     "execution_count": 13,
     "metadata": {},
     "output_type": "execute_result"
    },
    {
     "data": {
      "image/png": "[encoded data removed]",
      "text/plain": [
       "<Figure size 432x288 with 1 Axes>"
      ]
     },
     "metadata": {
      "needs_background": "light"
     },
     "output_type": "display_data"
    }
   ],
   "source": [
    "sns.distplot(np.log(y))"
   ]
  },
  {
   "cell_type": "code",
   "execution_count": 14,
   "id": "272d1e7d",
   "metadata": {},
   "outputs": [
    {
     "data": {
      "text/html": [
       "<div>\n",
       "<style scoped>\n",
       "    .dataframe tbody tr th:only-of-type {\n",
       "        vertical-align: middle;\n",
       "    }\n",
       "\n",
       "    .dataframe tbody tr th {\n",
       "        vertical-align: top;\n",
       "    }\n",
       "\n",
       "    .dataframe thead th {\n",
       "        text-align: right;\n",
       "    }\n",
       "</style>\n",
       "<table border=\"1\" class=\"dataframe\">\n",
       "  <thead>\n",
       "    <tr style=\"text-align: right;\">\n",
       "      <th></th>\n",
       "      <th>numSubStruct</th>\n",
       "      <th>npart</th>\n",
       "      <th>Xc</th>\n",
       "      <th>Yc</th>\n",
       "      <th>Zc</th>\n",
       "      <th>VXc</th>\n",
       "      <th>VYc</th>\n",
       "      <th>VZc</th>\n",
       "      <th>Rvir</th>\n",
       "      <th>Rmax</th>\n",
       "      <th>...</th>\n",
       "      <th>nbins</th>\n",
       "      <th>fMhires</th>\n",
       "      <th>Ekin</th>\n",
       "      <th>Epot</th>\n",
       "      <th>SurfP</th>\n",
       "      <th>Phi0</th>\n",
       "      <th>cNFW</th>\n",
       "      <th>numProgenitors</th>\n",
       "      <th>redshift</th>\n",
       "      <th>snapshot</th>\n",
       "    </tr>\n",
       "  </thead>\n",
       "  <tbody>\n",
       "    <tr>\n",
       "      <th>count</th>\n",
       "      <td>1.904194e+06</td>\n",
       "      <td>1.904194e+06</td>\n",
       "      <td>1.904194e+06</td>\n",
       "      <td>1.904194e+06</td>\n",
       "      <td>1.904194e+06</td>\n",
       "      <td>1.904194e+06</td>\n",
       "      <td>1.904194e+06</td>\n",
       "      <td>1.904194e+06</td>\n",
       "      <td>1.904194e+06</td>\n",
       "      <td>1.904194e+06</td>\n",
       "      <td>...</td>\n",
       "      <td>1.904194e+06</td>\n",
       "      <td>1.904194e+06</td>\n",
       "      <td>1.904194e+06</td>\n",
       "      <td>1.904194e+06</td>\n",
       "      <td>1.904194e+06</td>\n",
       "      <td>1.904194e+06</td>\n",
       "      <td>1.904194e+06</td>\n",
       "      <td>1.904194e+06</td>\n",
       "      <td>1.904194e+06</td>\n",
       "      <td>1.904194e+06</td>\n",
       "    </tr>\n",
       "    <tr>\n",
       "      <th>mean</th>\n",
       "      <td>9.956654e-02</td>\n",
       "      <td>2.575870e+02</td>\n",
       "      <td>5.007742e+05</td>\n",
       "      <td>4.994971e+05</td>\n",
       "      <td>4.990204e+05</td>\n",
       "      <td>-4.204308e+01</td>\n",
       "      <td>-7.998909e+01</td>\n",
       "      <td>-1.019666e+01</td>\n",
       "      <td>2.421373e+02</td>\n",
       "      <td>1.429646e+02</td>\n",
       "      <td>...</td>\n",
       "      <td>6.807982e+00</td>\n",
       "      <td>8.036348e-01</td>\n",
       "      <td>2.057980e+19</td>\n",
       "      <td>-3.405992e+19</td>\n",
       "      <td>-8.927490e+18</td>\n",
       "      <td>4.549449e+05</td>\n",
       "      <td>1.298794e+01</td>\n",
       "      <td>7.665180e-01</td>\n",
       "      <td>1.704753e+00</td>\n",
       "      <td>8.945714e+01</td>\n",
       "    </tr>\n",
       "    <tr>\n",
       "      <th>std</th>\n",
       "      <td>3.135197e+00</td>\n",
       "      <td>9.580410e+03</td>\n",
       "      <td>1.084851e+05</td>\n",
       "      <td>1.083433e+05</td>\n",
       "      <td>1.084405e+05</td>\n",
       "      <td>4.565202e+02</td>\n",
       "      <td>4.255146e+02</td>\n",
       "      <td>5.185178e+02</td>\n",
       "      <td>3.869837e+02</td>\n",
       "      <td>2.897636e+02</td>\n",
       "      <td>...</td>\n",
       "      <td>3.015148e+00</td>\n",
       "      <td>3.886670e-01</td>\n",
       "      <td>1.063021e+20</td>\n",
       "      <td>1.601525e+20</td>\n",
       "      <td>4.759987e+19</td>\n",
       "      <td>1.408278e+06</td>\n",
       "      <td>9.211981e+00</td>\n",
       "      <td>4.823193e-01</td>\n",
       "      <td>1.504042e+00</td>\n",
       "      <td>2.391909e+01</td>\n",
       "    </tr>\n",
       "    <tr>\n",
       "      <th>min</th>\n",
       "      <td>0.000000e+00</td>\n",
       "      <td>2.000000e+01</td>\n",
       "      <td>2.979848e-02</td>\n",
       "      <td>2.989953e+00</td>\n",
       "      <td>4.348920e+00</td>\n",
       "      <td>-4.896330e+03</td>\n",
       "      <td>-5.209810e+03</td>\n",
       "      <td>-4.184990e+03</td>\n",
       "      <td>6.000000e-01</td>\n",
       "      <td>7.000000e-02</td>\n",
       "      <td>...</td>\n",
       "      <td>4.000000e+00</td>\n",
       "      <td>0.000000e+00</td>\n",
       "      <td>1.005230e+11</td>\n",
       "      <td>-1.180090e+22</td>\n",
       "      <td>-3.712470e+21</td>\n",
       "      <td>7.553020e+02</td>\n",
       "      <td>-1.000000e+00</td>\n",
       "      <td>0.000000e+00</td>\n",
       "      <td>0.000000e+00</td>\n",
       "      <td>8.000000e+00</td>\n",
       "    </tr>\n",
       "    <tr>\n",
       "      <th>25%</th>\n",
       "      <td>0.000000e+00</td>\n",
       "      <td>2.600000e+01</td>\n",
       "      <td>4.910617e+05</td>\n",
       "      <td>4.900139e+05</td>\n",
       "      <td>4.899209e+05</td>\n",
       "      <td>-3.325900e+02</td>\n",
       "      <td>-3.186200e+02</td>\n",
       "      <td>-3.354800e+02</td>\n",
       "      <td>6.760000e+01</td>\n",
       "      <td>1.701000e+01</td>\n",
       "      <td>...</td>\n",
       "      <td>5.000000e+00</td>\n",
       "      <td>1.000000e+00</td>\n",
       "      <td>5.103890e+13</td>\n",
       "      <td>-4.584408e+15</td>\n",
       "      <td>-6.306488e+14</td>\n",
       "      <td>1.834320e+04</td>\n",
       "      <td>6.368390e+00</td>\n",
       "      <td>1.000000e+00</td>\n",
       "      <td>4.900000e-01</td>\n",
       "      <td>7.100000e+01</td>\n",
       "    </tr>\n",
       "    <tr>\n",
       "      <th>50%</th>\n",
       "      <td>0.000000e+00</td>\n",
       "      <td>3.800000e+01</td>\n",
       "      <td>5.005198e+05</td>\n",
       "      <td>4.997608e+05</td>\n",
       "      <td>4.996201e+05</td>\n",
       "      <td>1.314000e+01</td>\n",
       "      <td>-5.409000e+01</td>\n",
       "      <td>1.861000e+01</td>\n",
       "      <td>8.246000e+01</td>\n",
       "      <td>2.700500e+01</td>\n",
       "      <td>...</td>\n",
       "      <td>6.000000e+00</td>\n",
       "      <td>1.000000e+00</td>\n",
       "      <td>1.667870e+14</td>\n",
       "      <td>-3.774550e+14</td>\n",
       "      <td>-4.470920e+13</td>\n",
       "      <td>3.392630e+04</td>\n",
       "      <td>1.107440e+01</td>\n",
       "      <td>1.000000e+00</td>\n",
       "      <td>1.320000e+00</td>\n",
       "      <td>9.000000e+01</td>\n",
       "    </tr>\n",
       "    <tr>\n",
       "      <th>75%</th>\n",
       "      <td>0.000000e+00</td>\n",
       "      <td>8.200000e+01</td>\n",
       "      <td>5.093991e+05</td>\n",
       "      <td>5.086043e+05</td>\n",
       "      <td>5.076688e+05</td>\n",
       "      <td>2.484700e+02</td>\n",
       "      <td>1.726100e+02</td>\n",
       "      <td>3.108400e+02</td>\n",
       "      <td>1.292600e+02</td>\n",
       "      <td>5.281000e+01</td>\n",
       "      <td>...</td>\n",
       "      <td>8.000000e+00</td>\n",
       "      <td>1.000000e+00</td>\n",
       "      <td>2.218470e+15</td>\n",
       "      <td>-1.281470e+14</td>\n",
       "      <td>-9.476382e+12</td>\n",
       "      <td>1.102130e+05</td>\n",
       "      <td>1.725930e+01</td>\n",
       "      <td>1.000000e+00</td>\n",
       "      <td>2.534000e+00</td>\n",
       "      <td>1.100000e+02</td>\n",
       "    </tr>\n",
       "    <tr>\n",
       "      <th>max</th>\n",
       "      <td>1.247000e+03</td>\n",
       "      <td>4.052949e+06</td>\n",
       "      <td>9.999996e+05</td>\n",
       "      <td>9.999951e+05</td>\n",
       "      <td>9.999995e+05</td>\n",
       "      <td>4.548820e+03</td>\n",
       "      <td>4.586000e+03</td>\n",
       "      <td>4.692120e+03</td>\n",
       "      <td>2.977050e+03</td>\n",
       "      <td>2.234890e+03</td>\n",
       "      <td>...</td>\n",
       "      <td>3.700000e+01</td>\n",
       "      <td>1.000000e+00</td>\n",
       "      <td>8.806310e+21</td>\n",
       "      <td>-2.215350e+11</td>\n",
       "      <td>-0.000000e+00</td>\n",
       "      <td>1.016320e+09</td>\n",
       "      <td>9.860950e+01</td>\n",
       "      <td>1.220000e+02</td>\n",
       "      <td>1.323300e+01</td>\n",
       "      <td>1.280000e+02</td>\n",
       "    </tr>\n",
       "  </tbody>\n",
       "</table>\n",
       "<p>8 rows × 43 columns</p>\n",
       "</div>"
      ],
      "text/plain": [
       "       numSubStruct         npart            Xc            Yc            Zc  \\\n",
       "count  1.904194e+06  1.904194e+06  1.904194e+06  1.904194e+06  1.904194e+06   \n",
       "mean   9.956654e-02  2.575870e+02  5.007742e+05  4.994971e+05  4.990204e+05   \n",
       "std    3.135197e+00  9.580410e+03  1.084851e+05  1.083433e+05  1.084405e+05   \n",
       "min    0.000000e+00  2.000000e+01  2.979848e-02  2.989953e+00  4.348920e+00   \n",
       "25%    0.000000e+00  2.600000e+01  4.910617e+05  4.900139e+05  4.899209e+05   \n",
       "50%    0.000000e+00  3.800000e+01  5.005198e+05  4.997608e+05  4.996201e+05   \n",
       "75%    0.000000e+00  8.200000e+01  5.093991e+05  5.086043e+05  5.076688e+05   \n",
       "max    1.247000e+03  4.052949e+06  9.999996e+05  9.999951e+05  9.999995e+05   \n",
       "\n",
       "                VXc           VYc           VZc          Rvir          Rmax  \\\n",
       "count  1.904194e+06  1.904194e+06  1.904194e+06  1.904194e+06  1.904194e+06   \n",
       "mean  -4.204308e+01 -7.998909e+01 -1.019666e+01  2.421373e+02  1.429646e+02   \n",
       "std    4.565202e+02  4.255146e+02  5.185178e+02  3.869837e+02  2.897636e+02   \n",
       "min   -4.896330e+03 -5.209810e+03 -4.184990e+03  6.000000e-01  7.000000e-02   \n",
       "25%   -3.325900e+02 -3.186200e+02 -3.354800e+02  6.760000e+01  1.701000e+01   \n",
       "50%    1.314000e+01 -5.409000e+01  1.861000e+01  8.246000e+01  2.700500e+01   \n",
       "75%    2.484700e+02  1.726100e+02  3.108400e+02  1.292600e+02  5.281000e+01   \n",
       "max    4.548820e+03  4.586000e+03  4.692120e+03  2.977050e+03  2.234890e+03   \n",
       "\n",
       "       ...         nbins       fMhires          Ekin          Epot  \\\n",
       "count  ...  1.904194e+06  1.904194e+06  1.904194e+06  1.904194e+06   \n",
       "mean   ...  6.807982e+00  8.036348e-01  2.057980e+19 -3.405992e+19   \n",
       "std    ...  3.015148e+00  3.886670e-01  1.063021e+20  1.601525e+20   \n",
       "min    ...  4.000000e+00  0.000000e+00  1.005230e+11 -1.180090e+22   \n",
       "25%    ...  5.000000e+00  1.000000e+00  5.103890e+13 -4.584408e+15   \n",
       "50%    ...  6.000000e+00  1.000000e+00  1.667870e+14 -3.774550e+14   \n",
       "75%    ...  8.000000e+00  1.000000e+00  2.218470e+15 -1.281470e+14   \n",
       "max    ...  3.700000e+01  1.000000e+00  8.806310e+21 -2.215350e+11   \n",
       "\n",
       "              SurfP          Phi0          cNFW  numProgenitors      redshift  \\\n",
       "count  1.904194e+06  1.904194e+06  1.904194e+06    1.904194e+06  1.904194e+06   \n",
       "mean  -8.927490e+18  4.549449e+05  1.298794e+01    7.665180e-01  1.704753e+00   \n",
       "std    4.759987e+19  1.408278e+06  9.211981e+00    4.823193e-01  1.504042e+00   \n",
       "min   -3.712470e+21  7.553020e+02 -1.000000e+00    0.000000e+00  0.000000e+00   \n",
       "25%   -6.306488e+14  1.834320e+04  6.368390e+00    1.000000e+00  4.900000e-01   \n",
       "50%   -4.470920e+13  3.392630e+04  1.107440e+01    1.000000e+00  1.320000e+00   \n",
       "75%   -9.476382e+12  1.102130e+05  1.725930e+01    1.000000e+00  2.534000e+00   \n",
       "max   -0.000000e+00  1.016320e+09  9.860950e+01    1.220000e+02  1.323300e+01   \n",
       "\n",
       "           snapshot  \n",
       "count  1.904194e+06  \n",
       "mean   8.945714e+01  \n",
       "std    2.391909e+01  \n",
       "min    8.000000e+00  \n",
       "25%    7.100000e+01  \n",
       "50%    9.000000e+01  \n",
       "75%    1.100000e+02  \n",
       "max    1.280000e+02  \n",
       "\n",
       "[8 rows x 43 columns]"
      ]
     },
     "execution_count": 14,
     "metadata": {},
     "output_type": "execute_result"
    }
   ],
   "source": [
    "X.describe()"
   ]
  },
  {
   "cell_type": "code",
   "execution_count": 15,
   "id": "0d284ae2",
   "metadata": {},
   "outputs": [],
   "source": [
    "# Standardize data features to use zero mean normalisation\n",
    "\n",
    "scaler = StandardScaler()\n",
    "X = scaler.fit_transform(X)"
   ]
  },
  {
   "cell_type": "code",
   "execution_count": 16,
   "id": "a582853f",
   "metadata": {},
   "outputs": [
    {
     "data": {
      "text/plain": [
       "<AxesSubplot:>"
      ]
     },
     "execution_count": 16,
     "metadata": {},
     "output_type": "execute_result"
    },
    {
     "data": {
      "image/png": "[encoded data removed]",
      "text/plain": [
       "<Figure size 720x576 with 1 Axes>"
      ]
     },
     "metadata": {
      "needs_background": "light"
     },
     "output_type": "display_data"
    }
   ],
   "source": [
    "# Get first 10 features\n",
    "fig, ax=plt.subplots(1,figsize=(10,8))\n",
    "sns.boxplot(data=X[:,0:10], ax=ax)"
   ]
  },
  {
   "cell_type": "code",
   "execution_count": null,
   "id": "eaf0011d",
   "metadata": {},
   "outputs": [
    {
     "data": {
      "text/plain": [
       "<AxesSubplot:>"
      ]
     },
     "execution_count": 17,
     "metadata": {},
     "output_type": "execute_result"
    }
   ],
   "source": [
    "# Get second 10 features\n",
    "fig, ax=plt.subplots(1,figsize=(10,8))\n",
    "sns.boxplot(data=X[:,10:20], ax=ax)"
   ]
  },
  {
   "cell_type": "code",
   "execution_count": null,
   "id": "c4c1065d",
   "metadata": {},
   "outputs": [],
   "source": [
    "# Get third 10 features\n",
    "fig, ax=plt.subplots(1,figsize=(10,8))\n",
    "sns.boxplot(data=X[:,20:30], ax=ax)"
   ]
  },
  {
   "cell_type": "code",
   "execution_count": null,
   "id": "025489db",
   "metadata": {},
   "outputs": [],
   "source": [
    "# Get fourth 10 features\n",
    "fig, ax=plt.subplots(1,figsize=(10,8))\n",
    "sns.boxplot(data=X[:,30:43], ax=ax)"
   ]
  },
  {
   "cell_type": "code",
   "execution_count": null,
   "id": "bea85b2a",
   "metadata": {},
   "outputs": [],
   "source": [
    "#correlation map\n",
    "f,ax = plt.subplots(figsize=(18, 18))\n",
    "sns.heatmap(all_data.corr(), annot=True, linewidths=.5, fmt= '.1f',ax=ax)"
   ]
  },
  {
   "cell_type": "markdown",
   "id": "57ab481e",
   "metadata": {},
   "source": [
    "So from the above heatmap features ['Rvir',\n",
    "       'Rmax', 'r2', 'mbp_offset', 'com_offset', 'Vmax', 'v_esc', 'sigV'] positve correlate with Mvir. \n",
    "whilst [fMhires',\n",
    "       'Ekin', 'Epot', 'SurfP', 'Phi0', 'cNFW', 'numProgenitors', 'redshift'] have negative correlation and everthing else has zero correlation."
   ]
  },
  {
   "cell_type": "code",
   "execution_count": null,
   "id": "a8bda596",
   "metadata": {},
   "outputs": [],
   "source": [
    "all_data['redshift'].describe()"
   ]
  },
  {
   "cell_type": "code",
   "execution_count": null,
   "id": "f4d704a8",
   "metadata": {},
   "outputs": [],
   "source": [
    "sns.distplot(all_data['redshift'])"
   ]
  },
  {
   "cell_type": "code",
   "execution_count": null,
   "id": "a9d5db61",
   "metadata": {},
   "outputs": [],
   "source": [
    "all_data.groupby('Mvir')['redshift'].describe()"
   ]
  },
  {
   "cell_type": "code",
   "execution_count": null,
   "id": "47a7e4ff",
   "metadata": {},
   "outputs": [],
   "source": []
  }
 ],
 "metadata": {
  "kernelspec": {
   "display_name": "Python 3",
   "language": "python",
   "name": "python3"
  },
  "language_info": {
   "codemirror_mode": {
    "name": "ipython",
    "version": 3
   },
   "file_extension": ".py",
   "mimetype": "text/x-python",
   "name": "python",
   "nbconvert_exporter": "python",
   "pygments_lexer": "ipython3",
   "version": "3.8.8"
  }
 },
 "nbformat": 4,
 "nbformat_minor": 5
}
