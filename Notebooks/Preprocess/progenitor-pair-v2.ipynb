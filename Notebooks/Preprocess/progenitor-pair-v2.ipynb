{
 "cells": [
  {
   "cell_type": "code",
   "execution_count": 12,
   "metadata": {
    "collapsed": false,
    "jupyter": {
     "outputs_hidden": false
    }
   },
   "outputs": [],
   "source": [
    "import pandas as pd\n",
    "import os\n",
    "import csv\n",
    "import ast\n",
    "import numpy as np"
   ]
  },
  {
   "cell_type": "code",
   "execution_count": 13,
   "metadata": {},
   "outputs": [],
   "source": [
    "file_names = os.listdir('GadgetX-NewMDCLUSTER-1/combined-csv/')"
   ]
  },
  {
   "cell_type": "code",
   "execution_count": 14,
   "metadata": {},
   "outputs": [],
   "source": [
    "dataframes = []\n",
    "for file_name in file_names:\n",
    "    df = pd.read_csv(f'GadgetX-NewMDCLUSTER-1/combined-csv/{file_name}')\n",
    "    dataframes.append(df)"
   ]
  },
  {
   "cell_type": "code",
   "execution_count": 15,
   "metadata": {},
   "outputs": [],
   "source": [
    "all_data = pd.concat(dataframes)\n",
    "\n",
    "# Convert the 'ProgenitorsID' column from string to list\n",
    "all_data['ProgenitorsID'] = all_data['ProgenitorsID'].apply(ast.literal_eval)\n",
    "\n",
    "# Sort the snapshots in descending order\n",
    "all_data = all_data.sort_values(by=['snapshot', 'ID'], ascending=[False, True])"
   ]
  },
  {
   "cell_type": "code",
   "execution_count": 16,
   "metadata": {},
   "outputs": [],
   "source": [
    "snapshots = sorted(all_data['snapshot'].unique(), reverse=True)"
   ]
  },
  {
   "cell_type": "code",
   "execution_count": 17,
   "metadata": {},
   "outputs": [],
   "source": [
    "def print_progress_bar(iteration, total, length=50):\n",
    "    \"\"\"Prints a progress bar.\"\"\"\n",
    "    percent = (\"{0:.1f}\").format(100 * (iteration / float(total)))\n",
    "    filled_length = int(length * iteration // total)\n",
    "    bar = '█' * filled_length + '-' * (length - filled_length)\n",
    "    print(f'\\rProgress |{bar}| {percent}% Complete', end = '\\r')\n",
    "    if iteration == total: \n",
    "        print()"
   ]
  },
  {
   "cell_type": "code",
   "execution_count": 18,
   "metadata": {},
   "outputs": [
    {
     "name": "stdout",
     "output_type": "stream",
     "text": [
      "Progress |██████████████████████████------------------------| 53.3% Complete\r"
     ]
    },
    {
     "ename": "KeyboardInterrupt",
     "evalue": "",
     "output_type": "error",
     "traceback": [
      "\u001b[1;31m---------------------------------------------------------------------------\u001b[0m",
      "\u001b[1;31mKeyboardInterrupt\u001b[0m                         Traceback (most recent call last)",
      "Cell \u001b[1;32mIn[18], line 25\u001b[0m\n\u001b[0;32m     23\u001b[0m j \u001b[39m=\u001b[39m id_to_index_n_minus_1\u001b[39m.\u001b[39mget(progenitor)\n\u001b[0;32m     24\u001b[0m \u001b[39mif\u001b[39;00m j \u001b[39mis\u001b[39;00m \u001b[39mnot\u001b[39;00m \u001b[39mNone\u001b[39;00m:\n\u001b[1;32m---> 25\u001b[0m     progenitor_halo \u001b[39m=\u001b[39m halos_n_minus_1\u001b[39m.\u001b[39;49mloc[j]\n\u001b[0;32m     26\u001b[0m     pair \u001b[39m=\u001b[39m pd\u001b[39m.\u001b[39mconcat([halo, progenitor_halo\u001b[39m.\u001b[39mrename(\u001b[39mlambda\u001b[39;00m x: \u001b[39mf\u001b[39m\u001b[39m'\u001b[39m\u001b[39mprogenitor_\u001b[39m\u001b[39m{\u001b[39;00mx\u001b[39m}\u001b[39;00m\u001b[39m'\u001b[39m)])\n\u001b[0;32m     28\u001b[0m     \u001b[39m# calculate relative location and velocity for each dimension\u001b[39;00m\n",
      "File \u001b[1;32mc:\\Users\\hohim\\AppData\\Local\\Programs\\Python\\Python310\\lib\\site-packages\\pandas\\core\\indexing.py:1073\u001b[0m, in \u001b[0;36m_LocationIndexer.__getitem__\u001b[1;34m(self, key)\u001b[0m\n\u001b[0;32m   1070\u001b[0m axis \u001b[39m=\u001b[39m \u001b[39mself\u001b[39m\u001b[39m.\u001b[39maxis \u001b[39mor\u001b[39;00m \u001b[39m0\u001b[39m\n\u001b[0;32m   1072\u001b[0m maybe_callable \u001b[39m=\u001b[39m com\u001b[39m.\u001b[39mapply_if_callable(key, \u001b[39mself\u001b[39m\u001b[39m.\u001b[39mobj)\n\u001b[1;32m-> 1073\u001b[0m \u001b[39mreturn\u001b[39;00m \u001b[39mself\u001b[39;49m\u001b[39m.\u001b[39;49m_getitem_axis(maybe_callable, axis\u001b[39m=\u001b[39;49maxis)\n",
      "File \u001b[1;32mc:\\Users\\hohim\\AppData\\Local\\Programs\\Python\\Python310\\lib\\site-packages\\pandas\\core\\indexing.py:1312\u001b[0m, in \u001b[0;36m_LocIndexer._getitem_axis\u001b[1;34m(self, key, axis)\u001b[0m\n\u001b[0;32m   1310\u001b[0m \u001b[39m# fall thru to straight lookup\u001b[39;00m\n\u001b[0;32m   1311\u001b[0m \u001b[39mself\u001b[39m\u001b[39m.\u001b[39m_validate_key(key, axis)\n\u001b[1;32m-> 1312\u001b[0m \u001b[39mreturn\u001b[39;00m \u001b[39mself\u001b[39;49m\u001b[39m.\u001b[39;49m_get_label(key, axis\u001b[39m=\u001b[39;49maxis)\n",
      "File \u001b[1;32mc:\\Users\\hohim\\AppData\\Local\\Programs\\Python\\Python310\\lib\\site-packages\\pandas\\core\\indexing.py:1260\u001b[0m, in \u001b[0;36m_LocIndexer._get_label\u001b[1;34m(self, label, axis)\u001b[0m\n\u001b[0;32m   1258\u001b[0m \u001b[39mdef\u001b[39;00m \u001b[39m_get_label\u001b[39m(\u001b[39mself\u001b[39m, label, axis: \u001b[39mint\u001b[39m):\n\u001b[0;32m   1259\u001b[0m     \u001b[39m# GH#5567 this will fail if the label is not present in the axis.\u001b[39;00m\n\u001b[1;32m-> 1260\u001b[0m     \u001b[39mreturn\u001b[39;00m \u001b[39mself\u001b[39;49m\u001b[39m.\u001b[39;49mobj\u001b[39m.\u001b[39;49mxs(label, axis\u001b[39m=\u001b[39;49maxis)\n",
      "File \u001b[1;32mc:\\Users\\hohim\\AppData\\Local\\Programs\\Python\\Python310\\lib\\site-packages\\pandas\\core\\generic.py:4076\u001b[0m, in \u001b[0;36mNDFrame.xs\u001b[1;34m(self, key, axis, level, drop_level)\u001b[0m\n\u001b[0;32m   4070\u001b[0m     \u001b[39mif\u001b[39;00m \u001b[39mself\u001b[39m\u001b[39m.\u001b[39mndim \u001b[39m==\u001b[39m \u001b[39m1\u001b[39m:\n\u001b[0;32m   4071\u001b[0m         \u001b[39m# if we encounter an array-like and we only have 1 dim\u001b[39;00m\n\u001b[0;32m   4072\u001b[0m         \u001b[39m# that means that their are list/ndarrays inside the Series!\u001b[39;00m\n\u001b[0;32m   4073\u001b[0m         \u001b[39m# so just return them (GH 6394)\u001b[39;00m\n\u001b[0;32m   4074\u001b[0m         \u001b[39mreturn\u001b[39;00m \u001b[39mself\u001b[39m\u001b[39m.\u001b[39m_values[loc]\n\u001b[1;32m-> 4076\u001b[0m     new_mgr \u001b[39m=\u001b[39m \u001b[39mself\u001b[39;49m\u001b[39m.\u001b[39;49m_mgr\u001b[39m.\u001b[39;49mfast_xs(loc)\n\u001b[0;32m   4078\u001b[0m     result \u001b[39m=\u001b[39m \u001b[39mself\u001b[39m\u001b[39m.\u001b[39m_constructor_sliced(\n\u001b[0;32m   4079\u001b[0m         new_mgr, name\u001b[39m=\u001b[39m\u001b[39mself\u001b[39m\u001b[39m.\u001b[39mindex[loc]\n\u001b[0;32m   4080\u001b[0m     )\u001b[39m.\u001b[39m__finalize__(\u001b[39mself\u001b[39m)\n\u001b[0;32m   4081\u001b[0m \u001b[39melif\u001b[39;00m is_scalar(loc):\n",
      "File \u001b[1;32mc:\\Users\\hohim\\AppData\\Local\\Programs\\Python\\Python310\\lib\\site-packages\\pandas\\core\\internals\\managers.py:1097\u001b[0m, in \u001b[0;36mBlockManager.fast_xs\u001b[1;34m(self, loc)\u001b[0m\n\u001b[0;32m   1094\u001b[0m     ref \u001b[39m=\u001b[39m weakref\u001b[39m.\u001b[39mref(\u001b[39mself\u001b[39m\u001b[39m.\u001b[39mblocks[\u001b[39m0\u001b[39m])\n\u001b[0;32m   1095\u001b[0m     \u001b[39mreturn\u001b[39;00m SingleBlockManager(block, \u001b[39mself\u001b[39m\u001b[39m.\u001b[39maxes[\u001b[39m0\u001b[39m], [ref], parent\u001b[39m=\u001b[39m\u001b[39mself\u001b[39m)\n\u001b[1;32m-> 1097\u001b[0m dtype \u001b[39m=\u001b[39m interleaved_dtype([blk\u001b[39m.\u001b[39mdtype \u001b[39mfor\u001b[39;00m blk \u001b[39min\u001b[39;00m \u001b[39mself\u001b[39m\u001b[39m.\u001b[39mblocks])\n\u001b[0;32m   1099\u001b[0m n \u001b[39m=\u001b[39m \u001b[39mlen\u001b[39m(\u001b[39mself\u001b[39m)\n\u001b[0;32m   1101\u001b[0m \u001b[39m# GH#46406\u001b[39;00m\n",
      "File \u001b[1;32mc:\\Users\\hohim\\AppData\\Local\\Programs\\Python\\Python310\\lib\\site-packages\\pandas\\core\\internals\\managers.py:1097\u001b[0m, in \u001b[0;36m<listcomp>\u001b[1;34m(.0)\u001b[0m\n\u001b[0;32m   1094\u001b[0m     ref \u001b[39m=\u001b[39m weakref\u001b[39m.\u001b[39mref(\u001b[39mself\u001b[39m\u001b[39m.\u001b[39mblocks[\u001b[39m0\u001b[39m])\n\u001b[0;32m   1095\u001b[0m     \u001b[39mreturn\u001b[39;00m SingleBlockManager(block, \u001b[39mself\u001b[39m\u001b[39m.\u001b[39maxes[\u001b[39m0\u001b[39m], [ref], parent\u001b[39m=\u001b[39m\u001b[39mself\u001b[39m)\n\u001b[1;32m-> 1097\u001b[0m dtype \u001b[39m=\u001b[39m interleaved_dtype([blk\u001b[39m.\u001b[39mdtype \u001b[39mfor\u001b[39;00m blk \u001b[39min\u001b[39;00m \u001b[39mself\u001b[39m\u001b[39m.\u001b[39mblocks])\n\u001b[0;32m   1099\u001b[0m n \u001b[39m=\u001b[39m \u001b[39mlen\u001b[39m(\u001b[39mself\u001b[39m)\n\u001b[0;32m   1101\u001b[0m \u001b[39m# GH#46406\u001b[39;00m\n",
      "\u001b[1;31mKeyboardInterrupt\u001b[0m: "
     ]
    }
   ],
   "source": [
    "pairs = []\n",
    "\n",
    "# Maximum number of halos to process per snapshot\n",
    "max_halos = 10000\n",
    "\n",
    "total_snapshots = len(snapshots[:-1])\n",
    "\n",
    "for idx, snapshot in enumerate(snapshots[:-1]):\n",
    "    halos_n = all_data[all_data['snapshot'] == snapshot]\n",
    "    halos_n_minus_1 = all_data[all_data['snapshot'] == snapshot - 1]\n",
    "    id_to_index_n_minus_1 = {row['ID']: i for i, row in halos_n_minus_1.iterrows()}\n",
    "    \n",
    "    # Randomly select a subset of halos from the current snapshot\n",
    "    selected_halos = halos_n.sample(min(max_halos, len(halos_n)))\n",
    "    \n",
    "    snapshot_pairs = []\n",
    "    \n",
    "    for i, halo in selected_halos.iterrows():\n",
    "        progenitors = halo['ProgenitorsID']\n",
    "        for progenitor in progenitors:\n",
    "            if progenitor == -1:\n",
    "                continue\n",
    "            j = id_to_index_n_minus_1.get(progenitor)\n",
    "            if j is not None:\n",
    "                progenitor_halo = halos_n_minus_1.loc[j]\n",
    "                pair = pd.concat([halo, progenitor_halo.rename(lambda x: f'progenitor_{x}')])\n",
    "\n",
    "                # calculate relative location and velocity for each dimension\n",
    "                rel_location = 0\n",
    "                rel_velocity = 0\n",
    "                for dim, dim_c in zip(['X', 'Y', 'Z'], ['Xc', 'Yc', 'Zc']):\n",
    "                    rel_location += (pair[dim_c] - pair[f'progenitor_{dim_c}']) ** 2\n",
    "                for dim, dim_c in zip(['VX', 'VY', 'VZ'], ['VXc', 'VYc', 'VZc']):\n",
    "                    rel_velocity += (pair[dim_c] - pair[f'progenitor_{dim_c}']) ** 2\n",
    "                \n",
    "                # compute the square root to get the Euclidean distance\n",
    "                pair['rel_location'] = np.sqrt(rel_location)\n",
    "                pair['rel_velocity'] = np.sqrt(rel_velocity)\n",
    "                \n",
    "                snapshot_pairs.append(pair.to_dict())\n",
    "    \n",
    "    # Randomly select up to 3500 pairs from snapshot_pairs and append to pairs list|\n",
    "    pairs.extend(np.random.choice(snapshot_pairs, min(3500, len(snapshot_pairs)), replace=False))\n",
    "    \n",
    "    # Print progress\n",
    "    print_progress_bar(idx + 1, total_snapshots)\n",
    "\n",
    "pairs = pd.DataFrame(pairs)\n",
    "pairs['Is_Progenitor'] = 1\n",
    "print(pairs.head())"
   ]
  },
  {
   "cell_type": "code",
   "execution_count": null,
   "metadata": {},
   "outputs": [
    {
     "data": {
      "text/plain": [
       "329454"
      ]
     },
     "execution_count": 8,
     "metadata": {},
     "output_type": "execute_result"
    }
   ],
   "source": [
    "len(pairs.index)"
   ]
  },
  {
   "cell_type": "code",
   "execution_count": null,
   "metadata": {},
   "outputs": [],
   "source": [
    "pairs.to_csv('GadgetX-NewMDCLUSTER-1/progenitor-pair/128 snapshots-reduced/v2/progenitor-paris.csv', index=False)"
   ]
  },
  {
   "cell_type": "code",
   "execution_count": null,
   "metadata": {},
   "outputs": [],
   "source": [
    "pairs = pd.read_csv('GadgetX-NewMDCLUSTER-1/progenitor-pair/128 snapshots-reduced/v2/progenitor-paris.csv')"
   ]
  },
  {
   "cell_type": "code",
   "execution_count": null,
   "metadata": {},
   "outputs": [
    {
     "name": "stdout",
     "output_type": "stream",
     "text": [
      "121\n",
      "Progress |█████████-----------------------------------------| 18.3% Complete\r"
     ]
    },
    {
     "ename": "KeyboardInterrupt",
     "evalue": "",
     "output_type": "error",
     "traceback": [
      "\u001b[1;31m---------------------------------------------------------------------------\u001b[0m",
      "\u001b[1;31mKeyboardInterrupt\u001b[0m                         Traceback (most recent call last)",
      "Cell \u001b[1;32mIn[11], line 28\u001b[0m\n\u001b[0;32m     26\u001b[0m \u001b[39mfor\u001b[39;00m i, halo \u001b[39min\u001b[39;00m selected_halos\u001b[39m.\u001b[39miterrows():\n\u001b[0;32m     27\u001b[0m     progenitors \u001b[39m=\u001b[39m halo[\u001b[39m'\u001b[39m\u001b[39mProgenitorsID\u001b[39m\u001b[39m'\u001b[39m]\n\u001b[1;32m---> 28\u001b[0m     \u001b[39mfor\u001b[39;00m j, progenitor_halo \u001b[39min\u001b[39;00m halos_n_minus_1\u001b[39m.\u001b[39miterrows():\n\u001b[0;32m     29\u001b[0m         progenitor_id \u001b[39m=\u001b[39m progenitor_halo[\u001b[39m'\u001b[39m\u001b[39mID\u001b[39m\u001b[39m'\u001b[39m]\n\u001b[0;32m     30\u001b[0m         \u001b[39mif\u001b[39;00m progenitor_id \u001b[39mnot\u001b[39;00m \u001b[39min\u001b[39;00m progenitors \u001b[39mand\u001b[39;00m compute_distance(halo, progenitor_halo) \u001b[39m<\u001b[39m max_distance:\n",
      "File \u001b[1;32mc:\\Users\\hohim\\AppData\\Local\\Programs\\Python\\Python310\\lib\\site-packages\\pandas\\core\\frame.py:1410\u001b[0m, in \u001b[0;36mDataFrame.iterrows\u001b[1;34m(self)\u001b[0m\n\u001b[0;32m   1408\u001b[0m columns \u001b[39m=\u001b[39m \u001b[39mself\u001b[39m\u001b[39m.\u001b[39mcolumns\n\u001b[0;32m   1409\u001b[0m klass \u001b[39m=\u001b[39m \u001b[39mself\u001b[39m\u001b[39m.\u001b[39m_constructor_sliced\n\u001b[1;32m-> 1410\u001b[0m \u001b[39mfor\u001b[39;00m k, v \u001b[39min\u001b[39;00m \u001b[39mzip\u001b[39m(\u001b[39mself\u001b[39m\u001b[39m.\u001b[39mindex, \u001b[39mself\u001b[39;49m\u001b[39m.\u001b[39;49mvalues):\n\u001b[0;32m   1411\u001b[0m     s \u001b[39m=\u001b[39m klass(v, index\u001b[39m=\u001b[39mcolumns, name\u001b[39m=\u001b[39mk)\u001b[39m.\u001b[39m__finalize__(\u001b[39mself\u001b[39m)\n\u001b[0;32m   1412\u001b[0m     \u001b[39myield\u001b[39;00m k, s\n",
      "File \u001b[1;32mc:\\Users\\hohim\\AppData\\Local\\Programs\\Python\\Python310\\lib\\site-packages\\pandas\\core\\frame.py:11739\u001b[0m, in \u001b[0;36mDataFrame.values\u001b[1;34m(self)\u001b[0m\n\u001b[0;32m  11666\u001b[0m \u001b[39m\u001b[39m\u001b[39m\"\"\"\u001b[39;00m\n\u001b[0;32m  11667\u001b[0m \u001b[39mReturn a Numpy representation of the DataFrame.\u001b[39;00m\n\u001b[0;32m  11668\u001b[0m \n\u001b[1;32m   (...)\u001b[0m\n\u001b[0;32m  11736\u001b[0m \u001b[39m       ['monkey', nan, None]], dtype=object)\u001b[39;00m\n\u001b[0;32m  11737\u001b[0m \u001b[39m\"\"\"\u001b[39;00m\n\u001b[0;32m  11738\u001b[0m \u001b[39mself\u001b[39m\u001b[39m.\u001b[39m_consolidate_inplace()\n\u001b[1;32m> 11739\u001b[0m \u001b[39mreturn\u001b[39;00m \u001b[39mself\u001b[39;49m\u001b[39m.\u001b[39;49m_mgr\u001b[39m.\u001b[39;49mas_array()\n",
      "File \u001b[1;32mc:\\Users\\hohim\\AppData\\Local\\Programs\\Python\\Python310\\lib\\site-packages\\pandas\\core\\internals\\managers.py:1770\u001b[0m, in \u001b[0;36mBlockManager.as_array\u001b[1;34m(self, dtype, copy, na_value)\u001b[0m\n\u001b[0;32m   1768\u001b[0m             arr \u001b[39m=\u001b[39m arr\u001b[39m.\u001b[39mastype(dtype, copy\u001b[39m=\u001b[39m\u001b[39mFalse\u001b[39;00m)\n\u001b[0;32m   1769\u001b[0m \u001b[39melse\u001b[39;00m:\n\u001b[1;32m-> 1770\u001b[0m     arr \u001b[39m=\u001b[39m \u001b[39mself\u001b[39;49m\u001b[39m.\u001b[39;49m_interleave(dtype\u001b[39m=\u001b[39;49mdtype, na_value\u001b[39m=\u001b[39;49mna_value)\n\u001b[0;32m   1771\u001b[0m     \u001b[39m# The underlying data was copied within _interleave\u001b[39;00m\n\u001b[0;32m   1772\u001b[0m     copy \u001b[39m=\u001b[39m \u001b[39mFalse\u001b[39;00m\n",
      "File \u001b[1;32mc:\\Users\\hohim\\AppData\\Local\\Programs\\Python\\Python310\\lib\\site-packages\\pandas\\core\\internals\\managers.py:1817\u001b[0m, in \u001b[0;36mBlockManager._interleave\u001b[1;34m(self, dtype, na_value)\u001b[0m\n\u001b[0;32m   1815\u001b[0m \u001b[39mfor\u001b[39;00m blk \u001b[39min\u001b[39;00m \u001b[39mself\u001b[39m\u001b[39m.\u001b[39mblocks:\n\u001b[0;32m   1816\u001b[0m     rl \u001b[39m=\u001b[39m blk\u001b[39m.\u001b[39mmgr_locs\n\u001b[1;32m-> 1817\u001b[0m     arr \u001b[39m=\u001b[39m blk\u001b[39m.\u001b[39;49mget_values(dtype)\n\u001b[0;32m   1818\u001b[0m     result[rl\u001b[39m.\u001b[39mindexer] \u001b[39m=\u001b[39m arr\n\u001b[0;32m   1819\u001b[0m     itemmask[rl\u001b[39m.\u001b[39mindexer] \u001b[39m=\u001b[39m \u001b[39m1\u001b[39m\n",
      "File \u001b[1;32mc:\\Users\\hohim\\AppData\\Local\\Programs\\Python\\Python310\\lib\\site-packages\\pandas\\core\\internals\\blocks.py:1914\u001b[0m, in \u001b[0;36mNumpyBlock.get_values\u001b[1;34m(self, dtype)\u001b[0m\n\u001b[0;32m   1912\u001b[0m \u001b[39mdef\u001b[39;00m \u001b[39mget_values\u001b[39m(\u001b[39mself\u001b[39m, dtype: DtypeObj \u001b[39m|\u001b[39m \u001b[39mNone\u001b[39;00m \u001b[39m=\u001b[39m \u001b[39mNone\u001b[39;00m) \u001b[39m-\u001b[39m\u001b[39m>\u001b[39m np\u001b[39m.\u001b[39mndarray:\n\u001b[0;32m   1913\u001b[0m     \u001b[39mif\u001b[39;00m dtype \u001b[39m==\u001b[39m _dtype_obj:\n\u001b[1;32m-> 1914\u001b[0m         \u001b[39mreturn\u001b[39;00m \u001b[39mself\u001b[39;49m\u001b[39m.\u001b[39;49mvalues\u001b[39m.\u001b[39;49mastype(_dtype_obj)\n\u001b[0;32m   1915\u001b[0m     \u001b[39mreturn\u001b[39;00m \u001b[39mself\u001b[39m\u001b[39m.\u001b[39mvalues\n",
      "\u001b[1;31mKeyboardInterrupt\u001b[0m: "
     ]
    }
   ],
   "source": [
    "def compute_distance(halo1, halo2):\n",
    "    return np.sqrt((halo1['Xc'] - halo2['Xc'])**2 + (halo1['Yc'] - halo2['Yc'])**2 + (halo1['Zc'] - halo2['Zc'])**2)\n",
    "\n",
    "num_non_progenitor_pairs = len(pairs)\n",
    "non_progenitor_pairs = []\n",
    "\n",
    "# Define the maximum distance for non-progenitors\n",
    "max_distance = 2000\n",
    "\n",
    "# Maximum number of halos to process per snapshot\n",
    "max_halos = 10000  # Adjust this number based on your needs\n",
    "\n",
    "total_snapshots = len(snapshots[:-1])\n",
    "processed_snapshots = len(snapshots)\n",
    "print(processed_snapshots)\n",
    "\n",
    "for idx, snapshot in enumerate(snapshots[:-1]):\n",
    "    halos_n = all_data[all_data['snapshot'] == snapshot]\n",
    "    halos_n_minus_1 = all_data[all_data['snapshot'] == snapshot - 1]\n",
    "    \n",
    "    # Randomly select a subset of halos from the current snapshot\n",
    "    selected_halos = halos_n.sample(min(max_halos, len(halos_n)))\n",
    "    \n",
    "    snapshot_non_progenitor_pairs = []\n",
    "    \n",
    "    for i, halo in selected_halos.iterrows():\n",
    "        progenitors = halo['ProgenitorsID']\n",
    "        for j, progenitor_halo in halos_n_minus_1.iterrows():\n",
    "            progenitor_id = progenitor_halo['ID']\n",
    "            if progenitor_id not in progenitors and compute_distance(halo, progenitor_halo) < max_distance:\n",
    "                pair = pd.concat([halo, progenitor_halo.rename(lambda x: f'progenitor_{x}')])\n",
    "\n",
    "                # calculate relative location and velocity\n",
    "                rel_location = 0\n",
    "                rel_velocity = 0\n",
    "                for dim, dim_c in zip(['X', 'Y', 'Z'], ['Xc', 'Yc', 'Zc']):\n",
    "                    rel_location += (pair[dim_c] - pair[f'progenitor_{dim_c}']) ** 2\n",
    "                for dim, dim_c in zip(['VX', 'VY', 'VZ'], ['VXc', 'VYc', 'VZc']):\n",
    "                    rel_velocity += (pair[dim_c] - pair[f'progenitor_{dim_c}']) ** 2\n",
    "                \n",
    "                pair['rel_location'] = np.sqrt(rel_location)\n",
    "                pair['rel_velocity'] = np.sqrt(rel_velocity)\n",
    "\n",
    "                snapshot_non_progenitor_pairs.append(pair.to_dict())\n",
    "                \n",
    "                if len(snapshot_non_progenitor_pairs) == 3500:\n",
    "                    break\n",
    "        \n",
    "        if len(snapshot_non_progenitor_pairs) == 3500:\n",
    "            break\n",
    "    \n",
    "    non_progenitor_pairs.extend(snapshot_non_progenitor_pairs)\n",
    "    \n",
    "    # Print progress\n",
    "    print_progress_bar(idx + 1, total_snapshots)\n",
    "    processed_snapshots - 1\n",
    "\n",
    "non_progenitor_pairs = pd.DataFrame(non_progenitor_pairs)\n",
    "non_progenitor_pairs['Is_Progenitor'] = 0\n",
    "\n",
    "non_progenitor_pairs.head()"
   ]
  },
  {
   "cell_type": "code",
   "execution_count": null,
   "metadata": {},
   "outputs": [
    {
     "data": {
      "text/plain": [
       "362844"
      ]
     },
     "execution_count": 22,
     "metadata": {},
     "output_type": "execute_result"
    }
   ],
   "source": [
    "len(non_progenitor_pairs.index)"
   ]
  },
  {
   "cell_type": "code",
   "execution_count": null,
   "metadata": {},
   "outputs": [],
   "source": [
    "non_progenitor_pairs.to_csv('GadgetX-NewMDCLUSTER-1/progenitor-pair/128 snapshots-reduced/v2/non_progenitor_pairs.csv', index=False)"
   ]
  },
  {
   "cell_type": "code",
   "execution_count": null,
   "metadata": {},
   "outputs": [],
   "source": [
    "balanced_non_progenitor_pairs = non_progenitor_pairs.sample(len(pairs))"
   ]
  },
  {
   "cell_type": "code",
   "execution_count": null,
   "metadata": {},
   "outputs": [
    {
     "data": {
      "text/plain": [
       "329454"
      ]
     },
     "execution_count": 25,
     "metadata": {},
     "output_type": "execute_result"
    }
   ],
   "source": [
    "len(balanced_non_progenitor_pairs.index)"
   ]
  },
  {
   "cell_type": "code",
   "execution_count": null,
   "metadata": {},
   "outputs": [
    {
     "data": {
      "text/html": [
       "<div>\n",
       "<style scoped>\n",
       "    .dataframe tbody tr th:only-of-type {\n",
       "        vertical-align: middle;\n",
       "    }\n",
       "\n",
       "    .dataframe tbody tr th {\n",
       "        vertical-align: top;\n",
       "    }\n",
       "\n",
       "    .dataframe thead th {\n",
       "        text-align: right;\n",
       "    }\n",
       "</style>\n",
       "<table border=\"1\" class=\"dataframe\">\n",
       "  <thead>\n",
       "    <tr style=\"text-align: right;\">\n",
       "      <th></th>\n",
       "      <th>hostHalo</th>\n",
       "      <th>numSubStruct</th>\n",
       "      <th>Mvir</th>\n",
       "      <th>npart</th>\n",
       "      <th>Xc</th>\n",
       "      <th>Yc</th>\n",
       "      <th>Zc</th>\n",
       "      <th>VXc</th>\n",
       "      <th>VYc</th>\n",
       "      <th>VZc</th>\n",
       "      <th>...</th>\n",
       "      <th>progenitor_Phi0</th>\n",
       "      <th>progenitor_cNFW</th>\n",
       "      <th>progenitor_ID</th>\n",
       "      <th>progenitor_numProgenitors</th>\n",
       "      <th>progenitor_ProgenitorsID</th>\n",
       "      <th>progenitor_redshift</th>\n",
       "      <th>progenitor_snapshot</th>\n",
       "      <th>rel_location</th>\n",
       "      <th>rel_velocity</th>\n",
       "      <th>Is_Progenitor</th>\n",
       "    </tr>\n",
       "  </thead>\n",
       "  <tbody>\n",
       "    <tr>\n",
       "      <th>0</th>\n",
       "      <td>122000000000001</td>\n",
       "      <td>0</td>\n",
       "      <td>7.692290e+10</td>\n",
       "      <td>145</td>\n",
       "      <td>499906.668493</td>\n",
       "      <td>500198.003224</td>\n",
       "      <td>499913.299084</td>\n",
       "      <td>-568.82</td>\n",
       "      <td>-1836.12</td>\n",
       "      <td>-1626.31</td>\n",
       "      <td>...</td>\n",
       "      <td>15569.3</td>\n",
       "      <td>-1.0000</td>\n",
       "      <td>121000000006488</td>\n",
       "      <td>0</td>\n",
       "      <td>[-1]</td>\n",
       "      <td>0.168</td>\n",
       "      <td>121</td>\n",
       "      <td>3017.914974</td>\n",
       "      <td>3642.293649</td>\n",
       "      <td>0</td>\n",
       "    </tr>\n",
       "    <tr>\n",
       "      <th>1</th>\n",
       "      <td>122000000000001</td>\n",
       "      <td>0</td>\n",
       "      <td>7.692290e+10</td>\n",
       "      <td>145</td>\n",
       "      <td>499906.668493</td>\n",
       "      <td>500198.003224</td>\n",
       "      <td>499913.299084</td>\n",
       "      <td>-568.82</td>\n",
       "      <td>-1836.12</td>\n",
       "      <td>-1626.31</td>\n",
       "      <td>...</td>\n",
       "      <td>169494.0</td>\n",
       "      <td>26.9302</td>\n",
       "      <td>121000000000462</td>\n",
       "      <td>1</td>\n",
       "      <td>[120000000000389]</td>\n",
       "      <td>0.168</td>\n",
       "      <td>121</td>\n",
       "      <td>2706.483903</td>\n",
       "      <td>3977.063611</td>\n",
       "      <td>0</td>\n",
       "    </tr>\n",
       "    <tr>\n",
       "      <th>2</th>\n",
       "      <td>88000000000275</td>\n",
       "      <td>0</td>\n",
       "      <td>1.375210e+10</td>\n",
       "      <td>171</td>\n",
       "      <td>501803.625375</td>\n",
       "      <td>492068.283260</td>\n",
       "      <td>489277.470857</td>\n",
       "      <td>-169.17</td>\n",
       "      <td>-125.75</td>\n",
       "      <td>672.46</td>\n",
       "      <td>...</td>\n",
       "      <td>62344.6</td>\n",
       "      <td>-1.0000</td>\n",
       "      <td>87000000002688</td>\n",
       "      <td>1</td>\n",
       "      <td>[81000000001891]</td>\n",
       "      <td>1.480</td>\n",
       "      <td>87</td>\n",
       "      <td>142.768232</td>\n",
       "      <td>100.982342</td>\n",
       "      <td>1</td>\n",
       "    </tr>\n",
       "    <tr>\n",
       "      <th>3</th>\n",
       "      <td>0</td>\n",
       "      <td>0</td>\n",
       "      <td>8.480220e+10</td>\n",
       "      <td>101</td>\n",
       "      <td>482164.053963</td>\n",
       "      <td>499916.727726</td>\n",
       "      <td>496461.100303</td>\n",
       "      <td>503.21</td>\n",
       "      <td>-360.71</td>\n",
       "      <td>-135.91</td>\n",
       "      <td>...</td>\n",
       "      <td>100883.0</td>\n",
       "      <td>26.6265</td>\n",
       "      <td>100000000004152</td>\n",
       "      <td>1</td>\n",
       "      <td>[99000000004149]</td>\n",
       "      <td>0.858</td>\n",
       "      <td>100</td>\n",
       "      <td>4135.861245</td>\n",
       "      <td>659.412098</td>\n",
       "      <td>0</td>\n",
       "    </tr>\n",
       "    <tr>\n",
       "      <th>4</th>\n",
       "      <td>0</td>\n",
       "      <td>0</td>\n",
       "      <td>4.867230e+10</td>\n",
       "      <td>53</td>\n",
       "      <td>505733.966827</td>\n",
       "      <td>491471.586319</td>\n",
       "      <td>508446.191366</td>\n",
       "      <td>-1137.31</td>\n",
       "      <td>634.72</td>\n",
       "      <td>-454.39</td>\n",
       "      <td>...</td>\n",
       "      <td>20427.0</td>\n",
       "      <td>15.9005</td>\n",
       "      <td>103000000008841</td>\n",
       "      <td>1</td>\n",
       "      <td>[102000000009364]</td>\n",
       "      <td>0.738</td>\n",
       "      <td>103</td>\n",
       "      <td>345.708750</td>\n",
       "      <td>45.263222</td>\n",
       "      <td>1</td>\n",
       "    </tr>\n",
       "  </tbody>\n",
       "</table>\n",
       "<p>5 rows × 97 columns</p>\n",
       "</div>"
      ],
      "text/plain": [
       "          hostHalo  numSubStruct          Mvir  npart             Xc  \\\n",
       "0  122000000000001             0  7.692290e+10    145  499906.668493   \n",
       "1  122000000000001             0  7.692290e+10    145  499906.668493   \n",
       "2   88000000000275             0  1.375210e+10    171  501803.625375   \n",
       "3                0             0  8.480220e+10    101  482164.053963   \n",
       "4                0             0  4.867230e+10     53  505733.966827   \n",
       "\n",
       "              Yc             Zc      VXc      VYc      VZc  ...  \\\n",
       "0  500198.003224  499913.299084  -568.82 -1836.12 -1626.31  ...   \n",
       "1  500198.003224  499913.299084  -568.82 -1836.12 -1626.31  ...   \n",
       "2  492068.283260  489277.470857  -169.17  -125.75   672.46  ...   \n",
       "3  499916.727726  496461.100303   503.21  -360.71  -135.91  ...   \n",
       "4  491471.586319  508446.191366 -1137.31   634.72  -454.39  ...   \n",
       "\n",
       "   progenitor_Phi0  progenitor_cNFW    progenitor_ID  \\\n",
       "0          15569.3          -1.0000  121000000006488   \n",
       "1         169494.0          26.9302  121000000000462   \n",
       "2          62344.6          -1.0000   87000000002688   \n",
       "3         100883.0          26.6265  100000000004152   \n",
       "4          20427.0          15.9005  103000000008841   \n",
       "\n",
       "   progenitor_numProgenitors  progenitor_ProgenitorsID  progenitor_redshift  \\\n",
       "0                          0                      [-1]                0.168   \n",
       "1                          1         [120000000000389]                0.168   \n",
       "2                          1          [81000000001891]                1.480   \n",
       "3                          1          [99000000004149]                0.858   \n",
       "4                          1         [102000000009364]                0.738   \n",
       "\n",
       "   progenitor_snapshot  rel_location  rel_velocity  Is_Progenitor  \n",
       "0                  121   3017.914974   3642.293649              0  \n",
       "1                  121   2706.483903   3977.063611              0  \n",
       "2                   87    142.768232    100.982342              1  \n",
       "3                  100   4135.861245    659.412098              0  \n",
       "4                  103    345.708750     45.263222              1  \n",
       "\n",
       "[5 rows x 97 columns]"
      ]
     },
     "execution_count": 26,
     "metadata": {},
     "output_type": "execute_result"
    }
   ],
   "source": [
    "# Combine progenitor and non-progenitor pairs into a single dataset\n",
    "training_data = pd.concat([pairs, balanced_non_progenitor_pairs])\n",
    "\n",
    "# Shuffle the data\n",
    "training_data = training_data.sample(frac=1, random_state=42).reset_index(drop=True)\n",
    "\n",
    "training_data.head()\n"
   ]
  },
  {
   "cell_type": "code",
   "execution_count": null,
   "metadata": {},
   "outputs": [
    {
     "data": {
      "text/plain": [
       "658908"
      ]
     },
     "execution_count": 27,
     "metadata": {},
     "output_type": "execute_result"
    }
   ],
   "source": [
    "len(training_data.index)"
   ]
  },
  {
   "cell_type": "code",
   "execution_count": null,
   "metadata": {},
   "outputs": [],
   "source": [
    "training_data.to_csv('GadgetX-NewMDCLUSTER-1/progenitor-pair/128 snapshots-reduced/v2/training_data.csv', index=False)"
   ]
  },
  {
   "cell_type": "code",
   "execution_count": null,
   "metadata": {},
   "outputs": [
    {
     "data": {
      "image/png": "[encoded data removed]",
      "text/plain": [
       "<Figure size 800x600 with 1 Axes>"
      ]
     },
     "metadata": {},
     "output_type": "display_data"
    }
   ],
   "source": [
    "import matplotlib.pyplot as plt\n",
    "\n",
    "# Plotting the distribution of the 'Is_Progenitor' column\n",
    "plt.figure(figsize=(8, 6))\n",
    "training_data['Is_Progenitor'].value_counts().plot(kind='bar', color=['red', 'blue'])\n",
    "plt.title('Distribution of Is_Progenitor')\n",
    "plt.xlabel('Is_Progenitor')\n",
    "plt.ylabel('Count')\n",
    "plt.xticks(rotation=0)\n",
    "plt.show()\n"
   ]
  }
 ],
 "metadata": {
  "kernelspec": {
   "display_name": "Python 3 (ipykernel)",
   "language": "python",
   "name": "python3"
  },
  "language_info": {
   "codemirror_mode": {
    "name": "ipython",
    "version": 3
   },
   "file_extension": ".py",
   "mimetype": "text/x-python",
   "name": "python",
   "nbconvert_exporter": "python",
   "pygments_lexer": "ipython3",
   "version": "3.10.10"
  }
 },
 "nbformat": 4,
 "nbformat_minor": 4
}
