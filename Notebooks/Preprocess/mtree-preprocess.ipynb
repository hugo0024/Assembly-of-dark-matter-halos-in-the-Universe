{
 "cells": [
  {
   "cell_type": "code",
   "execution_count": 1,
   "metadata": {
    "collapsed": false,
    "jupyter": {
     "outputs_hidden": false
    }
   },
   "outputs": [],
   "source": [
    "import pandas as pd\n",
    "import os\n",
    "import csv"
   ]
  },
  {
   "cell_type": "code",
   "execution_count": 2,
   "metadata": {
    "collapsed": false,
    "jupyter": {
     "outputs_hidden": false
    }
   },
   "outputs": [],
   "source": [
    "def parse_mtree_file(file_path):\n",
    "    \"\"\"Parse a .AHF_mtree file and return a dictionary mapping each halo to its progenitors.\"\"\"\n",
    "\n",
    "    halo_progenitors = {}\n",
    "\n",
    "    with open(file_path, 'r') as f:\n",
    "        total_halos = int(f.readline())\n",
    "        for _ in range(total_halos):\n",
    "            # Read the halo ID and the number of progenitors\n",
    "            halo_line = f.readline()\n",
    "            if not halo_line:  # End of file\n",
    "                break\n",
    "            halo_id, num_progenitors = map(int, halo_line.split())\n",
    "\n",
    "            # Read the progenitor IDs\n",
    "            progenitors = [int(f.readline()) for _ in range(num_progenitors)]\n",
    "\n",
    "            # Add to the dictionary\n",
    "            halo_progenitors[halo_id] = progenitors\n",
    "\n",
    "    return halo_progenitors"
   ]
  },
  {
   "cell_type": "code",
   "execution_count": 3,
   "metadata": {
    "collapsed": false,
    "jupyter": {
     "outputs_hidden": false
    }
   },
   "outputs": [],
   "source": [
    "directory = \"../../Data/AHF_mtree_new/\"\n",
    "output_directory = \"GadgetX-NewMDCLUSTER-2/mtree-csv/\""
   ]
  },
  {
   "cell_type": "code",
   "execution_count": 4,
   "metadata": {
    "collapsed": false,
    "jupyter": {
     "outputs_hidden": false
    }
   },
   "outputs": [
    {
     "name": "stdout",
     "output_type": "stream",
     "text": [
      "Results for GadgetX-NewMDCLUSTER_0008.snap_021.z9.651.AHF_mtree saved as GadgetX-NewMDCLUSTER-2/mtree-csv/GadgetX-NewMDCLUSTER_0008.snap_021.z9.651.csv\n",
      "Results for GadgetX-NewMDCLUSTER_0008.snap_022.z9.454.AHF_mtree saved as GadgetX-NewMDCLUSTER-2/mtree-csv/GadgetX-NewMDCLUSTER_0008.snap_022.z9.454.csv\n",
      "Results for GadgetX-NewMDCLUSTER_0008.snap_023.z9.165.AHF_mtree saved as GadgetX-NewMDCLUSTER-2/mtree-csv/GadgetX-NewMDCLUSTER_0008.snap_023.z9.165.csv\n",
      "Results for GadgetX-NewMDCLUSTER_0008.snap_024.z8.977.AHF_mtree saved as GadgetX-NewMDCLUSTER-2/mtree-csv/GadgetX-NewMDCLUSTER_0008.snap_024.z8.977.csv\n",
      "Results for GadgetX-NewMDCLUSTER_0008.snap_025.z8.792.AHF_mtree saved as GadgetX-NewMDCLUSTER-2/mtree-csv/GadgetX-NewMDCLUSTER_0008.snap_025.z8.792.csv\n",
      "Results for GadgetX-NewMDCLUSTER_0008.snap_026.z8.521.AHF_mtree saved as GadgetX-NewMDCLUSTER-2/mtree-csv/GadgetX-NewMDCLUSTER_0008.snap_026.z8.521.csv\n",
      "Results for GadgetX-NewMDCLUSTER_0008.snap_027.z8.345.AHF_mtree saved as GadgetX-NewMDCLUSTER-2/mtree-csv/GadgetX-NewMDCLUSTER_0008.snap_027.z8.345.csv\n",
      "Results for GadgetX-NewMDCLUSTER_0008.snap_028.z8.086.AHF_mtree saved as GadgetX-NewMDCLUSTER-2/mtree-csv/GadgetX-NewMDCLUSTER_0008.snap_028.z8.086.csv\n",
      "Results for GadgetX-NewMDCLUSTER_0008.snap_029.z7.918.AHF_mtree saved as GadgetX-NewMDCLUSTER-2/mtree-csv/GadgetX-NewMDCLUSTER_0008.snap_029.z7.918.csv\n",
      "Results for GadgetX-NewMDCLUSTER_0008.snap_030.z7.752.AHF_mtree saved as GadgetX-NewMDCLUSTER-2/mtree-csv/GadgetX-NewMDCLUSTER_0008.snap_030.z7.752.csv\n",
      "Results for GadgetX-NewMDCLUSTER_0008.snap_031.z7.510.AHF_mtree saved as GadgetX-NewMDCLUSTER-2/mtree-csv/GadgetX-NewMDCLUSTER_0008.snap_031.z7.510.csv\n",
      "Results for GadgetX-NewMDCLUSTER_0008.snap_032.z7.353.AHF_mtree saved as GadgetX-NewMDCLUSTER-2/mtree-csv/GadgetX-NewMDCLUSTER_0008.snap_032.z7.353.csv\n",
      "Results for GadgetX-NewMDCLUSTER_0008.snap_033.z7.198.AHF_mtree saved as GadgetX-NewMDCLUSTER-2/mtree-csv/GadgetX-NewMDCLUSTER_0008.snap_033.z7.198.csv\n",
      "Results for GadgetX-NewMDCLUSTER_0008.snap_034.z7.009.AHF_mtree saved as GadgetX-NewMDCLUSTER-2/mtree-csv/GadgetX-NewMDCLUSTER_0008.snap_034.z7.009.csv\n",
      "Results for GadgetX-NewMDCLUSTER_0008.snap_035.z6.823.AHF_mtree saved as GadgetX-NewMDCLUSTER-2/mtree-csv/GadgetX-NewMDCLUSTER_0008.snap_035.z6.823.csv\n",
      "Results for GadgetX-NewMDCLUSTER_0008.snap_036.z6.643.AHF_mtree saved as GadgetX-NewMDCLUSTER-2/mtree-csv/GadgetX-NewMDCLUSTER_0008.snap_036.z6.643.csv\n",
      "Results for GadgetX-NewMDCLUSTER_0008.snap_037.z6.501.AHF_mtree saved as GadgetX-NewMDCLUSTER-2/mtree-csv/GadgetX-NewMDCLUSTER_0008.snap_037.z6.501.csv\n",
      "Results for GadgetX-NewMDCLUSTER_0008.snap_038.z6.328.AHF_mtree saved as GadgetX-NewMDCLUSTER-2/mtree-csv/GadgetX-NewMDCLUSTER_0008.snap_038.z6.328.csv\n",
      "Results for GadgetX-NewMDCLUSTER_0008.snap_039.z6.158.AHF_mtree saved as GadgetX-NewMDCLUSTER-2/mtree-csv/GadgetX-NewMDCLUSTER_0008.snap_039.z6.158.csv\n",
      "Results for GadgetX-NewMDCLUSTER_0008.snap_040.z5.993.AHF_mtree saved as GadgetX-NewMDCLUSTER-2/mtree-csv/GadgetX-NewMDCLUSTER_0008.snap_040.z5.993.csv\n",
      "Results for GadgetX-NewMDCLUSTER_0008.snap_041.z5.864.AHF_mtree saved as GadgetX-NewMDCLUSTER-2/mtree-csv/GadgetX-NewMDCLUSTER_0008.snap_041.z5.864.csv\n",
      "Results for GadgetX-NewMDCLUSTER_0008.snap_042.z5.705.AHF_mtree saved as GadgetX-NewMDCLUSTER-2/mtree-csv/GadgetX-NewMDCLUSTER_0008.snap_042.z5.705.csv\n",
      "Results for GadgetX-NewMDCLUSTER_0008.snap_043.z5.550.AHF_mtree saved as GadgetX-NewMDCLUSTER-2/mtree-csv/GadgetX-NewMDCLUSTER_0008.snap_043.z5.550.csv\n",
      "Results for GadgetX-NewMDCLUSTER_0008.snap_044.z5.429.AHF_mtree saved as GadgetX-NewMDCLUSTER-2/mtree-csv/GadgetX-NewMDCLUSTER_0008.snap_044.z5.429.csv\n",
      "Results for GadgetX-NewMDCLUSTER_0008.snap_045.z5.280.AHF_mtree saved as GadgetX-NewMDCLUSTER-2/mtree-csv/GadgetX-NewMDCLUSTER_0008.snap_045.z5.280.csv\n",
      "Results for GadgetX-NewMDCLUSTER_0008.snap_046.z5.135.AHF_mtree saved as GadgetX-NewMDCLUSTER-2/mtree-csv/GadgetX-NewMDCLUSTER_0008.snap_046.z5.135.csv\n",
      "Results for GadgetX-NewMDCLUSTER_0008.snap_047.z4.993.AHF_mtree saved as GadgetX-NewMDCLUSTER-2/mtree-csv/GadgetX-NewMDCLUSTER_0008.snap_047.z4.993.csv\n",
      "Results for GadgetX-NewMDCLUSTER_0008.snap_048.z4.882.AHF_mtree saved as GadgetX-NewMDCLUSTER-2/mtree-csv/GadgetX-NewMDCLUSTER_0008.snap_048.z4.882.csv\n",
      "Results for GadgetX-NewMDCLUSTER_0008.snap_049.z4.746.AHF_mtree saved as GadgetX-NewMDCLUSTER-2/mtree-csv/GadgetX-NewMDCLUSTER_0008.snap_049.z4.746.csv\n",
      "Results for GadgetX-NewMDCLUSTER_0008.snap_050.z4.614.AHF_mtree saved as GadgetX-NewMDCLUSTER-2/mtree-csv/GadgetX-NewMDCLUSTER_0008.snap_050.z4.614.csv\n",
      "Results for GadgetX-NewMDCLUSTER_0008.snap_051.z4.484.AHF_mtree saved as GadgetX-NewMDCLUSTER-2/mtree-csv/GadgetX-NewMDCLUSTER_0008.snap_051.z4.484.csv\n",
      "Results for GadgetX-NewMDCLUSTER_0008.snap_052.z4.382.AHF_mtree saved as GadgetX-NewMDCLUSTER-2/mtree-csv/GadgetX-NewMDCLUSTER_0008.snap_052.z4.382.csv\n",
      "Results for GadgetX-NewMDCLUSTER_0008.snap_053.z4.258.AHF_mtree saved as GadgetX-NewMDCLUSTER-2/mtree-csv/GadgetX-NewMDCLUSTER_0008.snap_053.z4.258.csv\n",
      "Results for GadgetX-NewMDCLUSTER_0008.snap_054.z4.136.AHF_mtree saved as GadgetX-NewMDCLUSTER-2/mtree-csv/GadgetX-NewMDCLUSTER_0008.snap_054.z4.136.csv\n",
      "Results for GadgetX-NewMDCLUSTER_0008.snap_055.z4.018.AHF_mtree saved as GadgetX-NewMDCLUSTER-2/mtree-csv/GadgetX-NewMDCLUSTER_0008.snap_055.z4.018.csv\n",
      "Results for GadgetX-NewMDCLUSTER_0008.snap_056.z3.925.AHF_mtree saved as GadgetX-NewMDCLUSTER-2/mtree-csv/GadgetX-NewMDCLUSTER_0008.snap_056.z3.925.csv\n",
      "Results for GadgetX-NewMDCLUSTER_0008.snap_057.z3.811.AHF_mtree saved as GadgetX-NewMDCLUSTER-2/mtree-csv/GadgetX-NewMDCLUSTER_0008.snap_057.z3.811.csv\n",
      "Results for GadgetX-NewMDCLUSTER_0008.snap_058.z3.711.AHF_mtree saved as GadgetX-NewMDCLUSTER-2/mtree-csv/GadgetX-NewMDCLUSTER_0008.snap_058.z3.711.csv\n",
      "Results for GadgetX-NewMDCLUSTER_0008.snap_059.z3.602.AHF_mtree saved as GadgetX-NewMDCLUSTER-2/mtree-csv/GadgetX-NewMDCLUSTER_0008.snap_059.z3.602.csv\n",
      "Results for GadgetX-NewMDCLUSTER_0008.snap_060.z3.506.AHF_mtree saved as GadgetX-NewMDCLUSTER-2/mtree-csv/GadgetX-NewMDCLUSTER_0008.snap_060.z3.506.csv\n",
      "Results for GadgetX-NewMDCLUSTER_0008.snap_061.z3.402.AHF_mtree saved as GadgetX-NewMDCLUSTER-2/mtree-csv/GadgetX-NewMDCLUSTER_0008.snap_061.z3.402.csv\n",
      "Results for GadgetX-NewMDCLUSTER_0008.snap_062.z3.310.AHF_mtree saved as GadgetX-NewMDCLUSTER-2/mtree-csv/GadgetX-NewMDCLUSTER_0008.snap_062.z3.310.csv\n",
      "Results for GadgetX-NewMDCLUSTER_0008.snap_063.z3.221.AHF_mtree saved as GadgetX-NewMDCLUSTER-2/mtree-csv/GadgetX-NewMDCLUSTER_0008.snap_063.z3.221.csv\n",
      "Results for GadgetX-NewMDCLUSTER_0008.snap_064.z3.123.AHF_mtree saved as GadgetX-NewMDCLUSTER-2/mtree-csv/GadgetX-NewMDCLUSTER_0008.snap_064.z3.123.csv\n",
      "Results for GadgetX-NewMDCLUSTER_0008.snap_065.z3.028.AHF_mtree saved as GadgetX-NewMDCLUSTER-2/mtree-csv/GadgetX-NewMDCLUSTER_0008.snap_065.z3.028.csv\n",
      "Results for GadgetX-NewMDCLUSTER_0008.snap_066.z2.944.AHF_mtree saved as GadgetX-NewMDCLUSTER-2/mtree-csv/GadgetX-NewMDCLUSTER_0008.snap_066.z2.944.csv\n",
      "Results for GadgetX-NewMDCLUSTER_0008.snap_067.z2.862.AHF_mtree saved as GadgetX-NewMDCLUSTER-2/mtree-csv/GadgetX-NewMDCLUSTER_0008.snap_067.z2.862.csv\n",
      "Results for GadgetX-NewMDCLUSTER_0008.snap_068.z2.773.AHF_mtree saved as GadgetX-NewMDCLUSTER-2/mtree-csv/GadgetX-NewMDCLUSTER_0008.snap_068.z2.773.csv\n",
      "Results for GadgetX-NewMDCLUSTER_0008.snap_069.z2.694.AHF_mtree saved as GadgetX-NewMDCLUSTER-2/mtree-csv/GadgetX-NewMDCLUSTER_0008.snap_069.z2.694.csv\n",
      "Results for GadgetX-NewMDCLUSTER_0008.snap_070.z2.609.AHF_mtree saved as GadgetX-NewMDCLUSTER-2/mtree-csv/GadgetX-NewMDCLUSTER_0008.snap_070.z2.609.csv\n",
      "Results for GadgetX-NewMDCLUSTER_0008.snap_071.z2.534.AHF_mtree saved as GadgetX-NewMDCLUSTER-2/mtree-csv/GadgetX-NewMDCLUSTER_0008.snap_071.z2.534.csv\n",
      "Results for GadgetX-NewMDCLUSTER_0008.snap_072.z2.452.AHF_mtree saved as GadgetX-NewMDCLUSTER-2/mtree-csv/GadgetX-NewMDCLUSTER_0008.snap_072.z2.452.csv\n",
      "Results for GadgetX-NewMDCLUSTER_0008.snap_073.z2.380.AHF_mtree saved as GadgetX-NewMDCLUSTER-2/mtree-csv/GadgetX-NewMDCLUSTER_0008.snap_073.z2.380.csv\n",
      "Results for GadgetX-NewMDCLUSTER_0008.snap_074.z2.302.AHF_mtree saved as GadgetX-NewMDCLUSTER-2/mtree-csv/GadgetX-NewMDCLUSTER_0008.snap_074.z2.302.csv\n",
      "Results for GadgetX-NewMDCLUSTER_0008.snap_075.z2.233.AHF_mtree saved as GadgetX-NewMDCLUSTER-2/mtree-csv/GadgetX-NewMDCLUSTER_0008.snap_075.z2.233.csv\n",
      "Results for GadgetX-NewMDCLUSTER_0008.snap_076.z2.159.AHF_mtree saved as GadgetX-NewMDCLUSTER-2/mtree-csv/GadgetX-NewMDCLUSTER_0008.snap_076.z2.159.csv\n",
      "Results for GadgetX-NewMDCLUSTER_0008.snap_077.z2.093.AHF_mtree saved as GadgetX-NewMDCLUSTER-2/mtree-csv/GadgetX-NewMDCLUSTER_0008.snap_077.z2.093.csv\n",
      "Results for GadgetX-NewMDCLUSTER_0008.snap_078.z2.021.AHF_mtree saved as GadgetX-NewMDCLUSTER-2/mtree-csv/GadgetX-NewMDCLUSTER_0008.snap_078.z2.021.csv\n",
      "Results for GadgetX-NewMDCLUSTER_0008.snap_079.z1.958.AHF_mtree saved as GadgetX-NewMDCLUSTER-2/mtree-csv/GadgetX-NewMDCLUSTER_0008.snap_079.z1.958.csv\n",
      "Results for GadgetX-NewMDCLUSTER_0008.snap_080.z1.890.AHF_mtree saved as GadgetX-NewMDCLUSTER-2/mtree-csv/GadgetX-NewMDCLUSTER_0008.snap_080.z1.890.csv\n",
      "Results for GadgetX-NewMDCLUSTER_0008.snap_081.z1.830.AHF_mtree saved as GadgetX-NewMDCLUSTER-2/mtree-csv/GadgetX-NewMDCLUSTER_0008.snap_081.z1.830.csv\n",
      "Results for GadgetX-NewMDCLUSTER_0008.snap_082.z1.765.AHF_mtree saved as GadgetX-NewMDCLUSTER-2/mtree-csv/GadgetX-NewMDCLUSTER_0008.snap_082.z1.765.csv\n",
      "Results for GadgetX-NewMDCLUSTER_0008.snap_083.z1.707.AHF_mtree saved as GadgetX-NewMDCLUSTER-2/mtree-csv/GadgetX-NewMDCLUSTER_0008.snap_083.z1.707.csv\n",
      "Results for GadgetX-NewMDCLUSTER_0008.snap_084.z1.644.AHF_mtree saved as GadgetX-NewMDCLUSTER-2/mtree-csv/GadgetX-NewMDCLUSTER_0008.snap_084.z1.644.csv\n",
      "Results for GadgetX-NewMDCLUSTER_0008.snap_085.z1.589.AHF_mtree saved as GadgetX-NewMDCLUSTER-2/mtree-csv/GadgetX-NewMDCLUSTER_0008.snap_085.z1.589.csv\n",
      "Results for GadgetX-NewMDCLUSTER_0008.snap_086.z1.535.AHF_mtree saved as GadgetX-NewMDCLUSTER-2/mtree-csv/GadgetX-NewMDCLUSTER_0008.snap_086.z1.535.csv\n",
      "Results for GadgetX-NewMDCLUSTER_0008.snap_087.z1.480.AHF_mtree saved as GadgetX-NewMDCLUSTER-2/mtree-csv/GadgetX-NewMDCLUSTER_0008.snap_087.z1.480.csv\n",
      "Results for GadgetX-NewMDCLUSTER_0008.snap_088.z1.425.AHF_mtree saved as GadgetX-NewMDCLUSTER-2/mtree-csv/GadgetX-NewMDCLUSTER_0008.snap_088.z1.425.csv\n",
      "Results for GadgetX-NewMDCLUSTER_0008.snap_089.z1.372.AHF_mtree saved as GadgetX-NewMDCLUSTER-2/mtree-csv/GadgetX-NewMDCLUSTER_0008.snap_089.z1.372.csv\n",
      "Results for GadgetX-NewMDCLUSTER_0008.snap_090.z1.320.AHF_mtree saved as GadgetX-NewMDCLUSTER-2/mtree-csv/GadgetX-NewMDCLUSTER_0008.snap_090.z1.320.csv\n",
      "Results for GadgetX-NewMDCLUSTER_0008.snap_091.z1.269.AHF_mtree saved as GadgetX-NewMDCLUSTER-2/mtree-csv/GadgetX-NewMDCLUSTER_0008.snap_091.z1.269.csv\n",
      "Results for GadgetX-NewMDCLUSTER_0008.snap_092.z1.219.AHF_mtree saved as GadgetX-NewMDCLUSTER-2/mtree-csv/GadgetX-NewMDCLUSTER_0008.snap_092.z1.219.csv\n",
      "Results for GadgetX-NewMDCLUSTER_0008.snap_093.z1.170.AHF_mtree saved as GadgetX-NewMDCLUSTER-2/mtree-csv/GadgetX-NewMDCLUSTER_0008.snap_093.z1.170.csv\n",
      "Results for GadgetX-NewMDCLUSTER_0008.snap_094.z1.123.AHF_mtree saved as GadgetX-NewMDCLUSTER-2/mtree-csv/GadgetX-NewMDCLUSTER_0008.snap_094.z1.123.csv\n",
      "Results for GadgetX-NewMDCLUSTER_0008.snap_095.z1.076.AHF_mtree saved as GadgetX-NewMDCLUSTER-2/mtree-csv/GadgetX-NewMDCLUSTER_0008.snap_095.z1.076.csv\n",
      "Results for GadgetX-NewMDCLUSTER_0008.snap_096.z1.031.AHF_mtree saved as GadgetX-NewMDCLUSTER-2/mtree-csv/GadgetX-NewMDCLUSTER_0008.snap_096.z1.031.csv\n",
      "Results for GadgetX-NewMDCLUSTER_0008.snap_097.z0.986.AHF_mtree saved as GadgetX-NewMDCLUSTER-2/mtree-csv/GadgetX-NewMDCLUSTER_0008.snap_097.z0.986.csv\n",
      "Results for GadgetX-NewMDCLUSTER_0008.snap_098.z0.942.AHF_mtree saved as GadgetX-NewMDCLUSTER-2/mtree-csv/GadgetX-NewMDCLUSTER_0008.snap_098.z0.942.csv\n",
      "Results for GadgetX-NewMDCLUSTER_0008.snap_099.z0.900.AHF_mtree saved as GadgetX-NewMDCLUSTER-2/mtree-csv/GadgetX-NewMDCLUSTER_0008.snap_099.z0.900.csv\n",
      "Results for GadgetX-NewMDCLUSTER_0008.snap_100.z0.858.AHF_mtree saved as GadgetX-NewMDCLUSTER-2/mtree-csv/GadgetX-NewMDCLUSTER_0008.snap_100.z0.858.csv\n",
      "Results for GadgetX-NewMDCLUSTER_0008.snap_101.z0.817.AHF_mtree saved as GadgetX-NewMDCLUSTER-2/mtree-csv/GadgetX-NewMDCLUSTER_0008.snap_101.z0.817.csv\n",
      "Results for GadgetX-NewMDCLUSTER_0008.snap_102.z0.777.AHF_mtree saved as GadgetX-NewMDCLUSTER-2/mtree-csv/GadgetX-NewMDCLUSTER_0008.snap_102.z0.777.csv\n",
      "Results for GadgetX-NewMDCLUSTER_0008.snap_103.z0.738.AHF_mtree saved as GadgetX-NewMDCLUSTER-2/mtree-csv/GadgetX-NewMDCLUSTER_0008.snap_103.z0.738.csv\n",
      "Results for GadgetX-NewMDCLUSTER_0008.snap_104.z0.700.AHF_mtree saved as GadgetX-NewMDCLUSTER-2/mtree-csv/GadgetX-NewMDCLUSTER_0008.snap_104.z0.700.csv\n",
      "Results for GadgetX-NewMDCLUSTER_0008.snap_105.z0.663.AHF_mtree saved as GadgetX-NewMDCLUSTER-2/mtree-csv/GadgetX-NewMDCLUSTER_0008.snap_105.z0.663.csv\n",
      "Results for GadgetX-NewMDCLUSTER_0008.snap_106.z0.628.AHF_mtree saved as GadgetX-NewMDCLUSTER-2/mtree-csv/GadgetX-NewMDCLUSTER_0008.snap_106.z0.628.csv\n",
      "Results for GadgetX-NewMDCLUSTER_0008.snap_107.z0.592.AHF_mtree saved as GadgetX-NewMDCLUSTER-2/mtree-csv/GadgetX-NewMDCLUSTER_0008.snap_107.z0.592.csv\n",
      "Results for GadgetX-NewMDCLUSTER_0008.snap_108.z0.557.AHF_mtree saved as GadgetX-NewMDCLUSTER-2/mtree-csv/GadgetX-NewMDCLUSTER_0008.snap_108.z0.557.csv\n",
      "Results for GadgetX-NewMDCLUSTER_0008.snap_109.z0.523.AHF_mtree saved as GadgetX-NewMDCLUSTER-2/mtree-csv/GadgetX-NewMDCLUSTER_0008.snap_109.z0.523.csv\n",
      "Results for GadgetX-NewMDCLUSTER_0008.snap_110.z0.490.AHF_mtree saved as GadgetX-NewMDCLUSTER-2/mtree-csv/GadgetX-NewMDCLUSTER_0008.snap_110.z0.490.csv\n",
      "Results for GadgetX-NewMDCLUSTER_0008.snap_111.z0.457.AHF_mtree saved as GadgetX-NewMDCLUSTER-2/mtree-csv/GadgetX-NewMDCLUSTER_0008.snap_111.z0.457.csv\n",
      "Results for GadgetX-NewMDCLUSTER_0008.snap_112.z0.425.AHF_mtree saved as GadgetX-NewMDCLUSTER-2/mtree-csv/GadgetX-NewMDCLUSTER_0008.snap_112.z0.425.csv\n",
      "Results for GadgetX-NewMDCLUSTER_0008.snap_113.z0.394.AHF_mtree saved as GadgetX-NewMDCLUSTER-2/mtree-csv/GadgetX-NewMDCLUSTER_0008.snap_113.z0.394.csv\n",
      "Results for GadgetX-NewMDCLUSTER_0008.snap_114.z0.363.AHF_mtree saved as GadgetX-NewMDCLUSTER-2/mtree-csv/GadgetX-NewMDCLUSTER_0008.snap_114.z0.363.csv\n",
      "Results for GadgetX-NewMDCLUSTER_0008.snap_115.z0.333.AHF_mtree saved as GadgetX-NewMDCLUSTER-2/mtree-csv/GadgetX-NewMDCLUSTER_0008.snap_115.z0.333.csv\n",
      "Results for GadgetX-NewMDCLUSTER_0008.snap_116.z0.304.AHF_mtree saved as GadgetX-NewMDCLUSTER-2/mtree-csv/GadgetX-NewMDCLUSTER_0008.snap_116.z0.304.csv\n",
      "Results for GadgetX-NewMDCLUSTER_0008.snap_117.z0.275.AHF_mtree saved as GadgetX-NewMDCLUSTER-2/mtree-csv/GadgetX-NewMDCLUSTER_0008.snap_117.z0.275.csv\n",
      "Results for GadgetX-NewMDCLUSTER_0008.snap_118.z0.247.AHF_mtree saved as GadgetX-NewMDCLUSTER-2/mtree-csv/GadgetX-NewMDCLUSTER_0008.snap_118.z0.247.csv\n",
      "Results for GadgetX-NewMDCLUSTER_0008.snap_119.z0.220.AHF_mtree saved as GadgetX-NewMDCLUSTER-2/mtree-csv/GadgetX-NewMDCLUSTER_0008.snap_119.z0.220.csv\n",
      "Results for GadgetX-NewMDCLUSTER_0008.snap_120.z0.193.AHF_mtree saved as GadgetX-NewMDCLUSTER-2/mtree-csv/GadgetX-NewMDCLUSTER_0008.snap_120.z0.193.csv\n",
      "Results for GadgetX-NewMDCLUSTER_0008.snap_121.z0.167.AHF_mtree saved as GadgetX-NewMDCLUSTER-2/mtree-csv/GadgetX-NewMDCLUSTER_0008.snap_121.z0.167.csv\n",
      "Results for GadgetX-NewMDCLUSTER_0008.snap_122.z0.141.AHF_mtree saved as GadgetX-NewMDCLUSTER-2/mtree-csv/GadgetX-NewMDCLUSTER_0008.snap_122.z0.141.csv\n",
      "Results for GadgetX-NewMDCLUSTER_0008.snap_123.z0.116.AHF_mtree saved as GadgetX-NewMDCLUSTER-2/mtree-csv/GadgetX-NewMDCLUSTER_0008.snap_123.z0.116.csv\n",
      "Results for GadgetX-NewMDCLUSTER_0008.snap_124.z0.092.AHF_mtree saved as GadgetX-NewMDCLUSTER-2/mtree-csv/GadgetX-NewMDCLUSTER_0008.snap_124.z0.092.csv\n",
      "Results for GadgetX-NewMDCLUSTER_0008.snap_125.z0.068.AHF_mtree saved as GadgetX-NewMDCLUSTER-2/mtree-csv/GadgetX-NewMDCLUSTER_0008.snap_125.z0.068.csv\n",
      "Results for GadgetX-NewMDCLUSTER_0008.snap_126.z0.044.AHF_mtree saved as GadgetX-NewMDCLUSTER-2/mtree-csv/GadgetX-NewMDCLUSTER_0008.snap_126.z0.044.csv\n",
      "Results for GadgetX-NewMDCLUSTER_0008.snap_127.z0.021.AHF_mtree saved as GadgetX-NewMDCLUSTER-2/mtree-csv/GadgetX-NewMDCLUSTER_0008.snap_127.z0.021.csv\n",
      "Results for GadgetX-NewMDCLUSTER_0008.snap_128.z0.000.AHF_mtree saved as GadgetX-NewMDCLUSTER-2/mtree-csv/GadgetX-NewMDCLUSTER_0008.snap_128.z0.000.csv\n"
     ]
    }
   ],
   "source": [
    "for filename in os.listdir(directory):\n",
    "    if filename.endswith(\".AHF_mtree\"):\n",
    "\n",
    "        file_path = os.path.join(directory, filename)\n",
    "\n",
    "        halo_progenitors = parse_mtree_file(file_path)\n",
    "\n",
    "        csv_file_path = os.path.join(output_directory, os.path.splitext(filename)[0] + \".csv\")\n",
    "\n",
    "        with open(csv_file_path, \"w\", newline=\"\") as csvfile:\n",
    "            writer = csv.writer(csvfile)\n",
    "\n",
    "            # Write the header\n",
    "            writer.writerow([\"ID\", \"numProgenitors\", \"ProgenitorsID\"])\n",
    "\n",
    "            # Write the data\n",
    "            for halo_id, progenitors in halo_progenitors.items():\n",
    "                num_progenitors = len(progenitors)\n",
    "                writer.writerow([halo_id, num_progenitors, \",\".join(str(p) for p in progenitors)])\n",
    "\n",
    "        print(f\"Results for {filename} saved as {csv_file_path}\")"
   ]
  },
  {
   "cell_type": "code",
   "execution_count": null,
   "metadata": {},
   "outputs": [],
   "source": []
  }
 ],
 "metadata": {
  "kernelspec": {
   "display_name": "Python 3 (ipykernel)",
   "language": "python",
   "name": "python3"
  },
  "language_info": {
   "codemirror_mode": {
    "name": "ipython",
    "version": 3
   },
   "file_extension": ".py",
   "mimetype": "text/x-python",
   "name": "python",
   "nbconvert_exporter": "python",
   "pygments_lexer": "ipython3",
   "version": "3.10.10"
  }
 },
 "nbformat": 4,
 "nbformat_minor": 4
}
