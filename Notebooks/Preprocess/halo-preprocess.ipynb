{
 "cells": [
  {
   "cell_type": "code",
   "execution_count": 1,
   "metadata": {
    "collapsed": false
   },
   "outputs": [],
   "source": [
    "import pandas as pd\n",
    "import os"
   ]
  },
  {
   "cell_type": "code",
   "execution_count": 2,
   "metadata": {
    "collapsed": false
   },
   "outputs": [],
   "source": [
    "column_names = [\"ID\",\"hostHalo\",\"numSubStruct\",\"Mvir\",\"npart\",\"Xc\",\"Yc\",\"Zc\",\"VXc\",\"VYc\",\"VZc\",\"Rvir\",\"Rmax\",\"r2\",\n",
    "                \"mbp_offset\",\"com_offset\",\"Vmax\",\"v_esc\",\"sigV\",\"lambda\",\"lambdaE\",\"Lx\",\"Ly\",\"Lz\",\"b\",\"c\",\"Eax\",\n",
    "                \"Eay\",\"Eaz\",\"Ebx\",\"Eby\",\"Ebz\",\"Ecx\",\"Ecy\",\"Ecz\",\"ovdens\",\"nbins\",\"fMhires\",\"Ekin\",\"Epot\",\"SurfP\",\n",
    "                \"Phi0\",\"cNFW\"]"
   ]
  },
  {
   "cell_type": "code",
   "execution_count": 3,
   "metadata": {
    "collapsed": false
   },
   "outputs": [],
   "source": [
    "input_directory = '../../Data/AHF_halos_new/'\n",
    "output_directory = 'GadgetX-NewMDCLUSTER-2/halo-csv/'"
   ]
  },
  {
   "cell_type": "code",
   "execution_count": 4,
   "metadata": {
    "collapsed": false
   },
   "outputs": [],
   "source": [
    "file_list = os.listdir(input_directory)"
   ]
  },
  {
   "cell_type": "code",
   "execution_count": 5,
   "metadata": {
    "collapsed": false
   },
   "outputs": [],
   "source": [
    "for file_name in file_list:\n",
    "    if file_name.endswith('.AHF_halos'):\n",
    "        input_file = os.path.join(input_directory, file_name)\n",
    "\n",
    "        output_file = os.path.join(output_directory, file_name.replace('.AHF_halos', '.csv'))\n",
    "\n",
    "        data = pd.read_csv(input_file, sep='\\s+', comment='#', names=column_names, usecols=range(43))\n",
    "\n",
    "        data.to_csv(output_file, index=False)"
   ]
  }
 ],
 "metadata": {
  "kernelspec": {
   "display_name": "Python 3",
   "language": "python",
   "name": "python3"
  },
  "language_info": {
   "codemirror_mode": {
    "name": "ipython",
    "version": 3
   },
   "file_extension": ".py",
   "mimetype": "text/x-python",
   "name": "python",
   "nbconvert_exporter": "python",
   "pygments_lexer": "ipython3",
   "version": "3.10.10"
  }
 },
 "nbformat": 4,
 "nbformat_minor": 0
}
