{
 "cells": [
  {
   "cell_type": "code",
   "execution_count": 1,
   "outputs": [],
   "source": [
    "import pandas as pd\n",
    "import os\n",
    "import csv"
   ],
   "metadata": {
    "collapsed": false
   }
  },
  {
   "cell_type": "code",
   "execution_count": 2,
   "outputs": [],
   "source": [
    "def parse_mtree_file(file_path):\n",
    "    \"\"\"Parse a .AHF_mtree file and return a dictionary mapping each halo to its progenitors.\"\"\"\n",
    "\n",
    "    halo_progenitors = {}\n",
    "\n",
    "    with open(file_path, 'r') as f:\n",
    "        total_halos = int(f.readline())\n",
    "        for _ in range(total_halos):\n",
    "            # Read the halo ID and the number of progenitors\n",
    "            halo_line = f.readline()\n",
    "            if not halo_line:  # End of file\n",
    "                break\n",
    "            halo_id, num_progenitors = map(int, halo_line.split())\n",
    "\n",
    "            # Read the progenitor IDs\n",
    "            progenitors = [int(f.readline()) for _ in range(num_progenitors)]\n",
    "\n",
    "            # Add to the dictionary\n",
    "            halo_progenitors[halo_id] = progenitors\n",
    "\n",
    "    return halo_progenitors"
   ],
   "metadata": {
    "collapsed": false
   }
  },
  {
   "cell_type": "code",
   "execution_count": 3,
   "outputs": [],
   "source": [
    "directory = \"../../Data/AHF_mtree/\"\n",
    "output_directory = \"mtree-csv\""
   ],
   "metadata": {
    "collapsed": false
   }
  },
  {
   "cell_type": "code",
   "execution_count": 4,
   "outputs": [],
   "source": [
    "for filename in os.listdir(directory):\n",
    "    if filename.endswith(\".AHF_mtree\"):\n",
    "\n",
    "        file_path = os.path.join(directory, filename)\n",
    "\n",
    "        halo_progenitors = parse_mtree_file(file_path)\n",
    "\n",
    "        csv_file_path = os.path.join(output_directory, os.path.splitext(filename)[0] + \".csv\")\n",
    "\n",
    "        with open(csv_file_path, \"w\", newline=\"\") as csvfile:\n",
    "            writer = csv.writer(csvfile)\n",
    "\n",
    "            # Write the header\n",
    "            writer.writerow([\"ID\", \"numProgenitors\", \"ProgenitorsID\"])\n",
    "\n",
    "            # Write the data\n",
    "            for halo_id, progenitors in halo_progenitors.items():\n",
    "                num_progenitors = len(progenitors)\n",
    "                writer.writerow([halo_id, num_progenitors, \",\".join(str(p) for p in progenitors)])\n",
    "\n",
    "        print(f\"Results for {filename} saved as {csv_file_path}\")"
   ],
   "metadata": {
    "collapsed": false
   }
  }
 ],
 "metadata": {
  "kernelspec": {
   "display_name": "Python 3",
   "language": "python",
   "name": "python3"
  },
  "language_info": {
   "codemirror_mode": {
    "name": "ipython",
    "version": 2
   },
   "file_extension": ".py",
   "mimetype": "text/x-python",
   "name": "python",
   "nbconvert_exporter": "python",
   "pygments_lexer": "ipython2",
   "version": "2.7.6"
  }
 },
 "nbformat": 4,
 "nbformat_minor": 0
}
